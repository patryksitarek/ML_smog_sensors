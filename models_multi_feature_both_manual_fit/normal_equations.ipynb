{
 "cells": [
  {
   "cell_type": "markdown",
   "metadata": {
    "collapsed": false
   },
   "source": [
    "# Normal equations"
   ]
  },
  {
   "cell_type": "markdown",
   "metadata": {
    "collapsed": false
   },
   "source": [
    "# Imports"
   ]
  },
  {
   "cell_type": "code",
   "execution_count": 1,
   "metadata": {},
   "outputs": [],
   "source": [
    "import pandas as pd\n",
    "import numpy as np\n",
    "import matplotlib\n",
    "import matplotlib.pyplot as plt\n",
    "from sklearn.model_selection import train_test_split\n",
    "from sklearn.metrics import r2_score, mean_squared_error, mean_absolute_error"
   ]
  },
  {
   "cell_type": "markdown",
   "metadata": {
    "collapsed": false
   },
   "source": [
    "# Read data"
   ]
  },
  {
   "cell_type": "code",
   "execution_count": 2,
   "metadata": {},
   "outputs": [],
   "source": [
    "dataset = pd.concat([\n",
    "    pd.read_csv('../dataset/smog_part1.csv', index_col = 0),\n",
    "    pd.read_csv('../dataset/smog_part2_manual_fit.csv', index_col = 0)\n",
    "])\n",
    "\n",
    "dataset = dataset[dataset['humiditySht'] >= 60]"
   ]
  },
  {
   "cell_type": "code",
   "execution_count": 3,
   "metadata": {},
   "outputs": [
    {
     "data": {
      "text/html": [
       "<div>\n",
       "<style scoped>\n",
       "    .dataframe tbody tr th:only-of-type {\n",
       "        vertical-align: middle;\n",
       "    }\n",
       "\n",
       "    .dataframe tbody tr th {\n",
       "        vertical-align: top;\n",
       "    }\n",
       "\n",
       "    .dataframe thead th {\n",
       "        text-align: right;\n",
       "    }\n",
       "</style>\n",
       "<table border=\"1\" class=\"dataframe\">\n",
       "  <thead>\n",
       "    <tr style=\"text-align: right;\">\n",
       "      <th></th>\n",
       "      <th>pm25_x</th>\n",
       "      <th>pm25_y</th>\n",
       "      <th>temperatureSht</th>\n",
       "      <th>humiditySht</th>\n",
       "      <th>pressure</th>\n",
       "    </tr>\n",
       "  </thead>\n",
       "  <tbody>\n",
       "    <tr>\n",
       "      <th>0</th>\n",
       "      <td>19.0</td>\n",
       "      <td>13.8</td>\n",
       "      <td>6.1</td>\n",
       "      <td>72</td>\n",
       "      <td>986</td>\n",
       "    </tr>\n",
       "    <tr>\n",
       "      <th>1</th>\n",
       "      <td>16.7</td>\n",
       "      <td>14.4</td>\n",
       "      <td>5.9</td>\n",
       "      <td>74</td>\n",
       "      <td>986</td>\n",
       "    </tr>\n",
       "    <tr>\n",
       "      <th>2</th>\n",
       "      <td>21.8</td>\n",
       "      <td>15.1</td>\n",
       "      <td>5.7</td>\n",
       "      <td>75</td>\n",
       "      <td>986</td>\n",
       "    </tr>\n",
       "    <tr>\n",
       "      <th>3</th>\n",
       "      <td>21.8</td>\n",
       "      <td>18.0</td>\n",
       "      <td>5.7</td>\n",
       "      <td>76</td>\n",
       "      <td>986</td>\n",
       "    </tr>\n",
       "    <tr>\n",
       "      <th>4</th>\n",
       "      <td>25.0</td>\n",
       "      <td>19.0</td>\n",
       "      <td>5.5</td>\n",
       "      <td>77</td>\n",
       "      <td>986</td>\n",
       "    </tr>\n",
       "  </tbody>\n",
       "</table>\n",
       "</div>"
      ],
      "text/plain": [
       "   pm25_x  pm25_y  temperatureSht  humiditySht  pressure\n",
       "0    19.0    13.8             6.1           72       986\n",
       "1    16.7    14.4             5.9           74       986\n",
       "2    21.8    15.1             5.7           75       986\n",
       "3    21.8    18.0             5.7           76       986\n",
       "4    25.0    19.0             5.5           77       986"
      ]
     },
     "execution_count": 3,
     "metadata": {},
     "output_type": "execute_result"
    }
   ],
   "source": [
    "dataset = dataset[['pm25_x', 'pm25_y', 'temperatureSht', 'humiditySht', 'pressure']]\n",
    "dataset = dataset[dataset['humiditySht'] >= 60]\n",
    "dataset.head()"
   ]
  },
  {
   "cell_type": "markdown",
   "metadata": {
    "collapsed": false
   },
   "source": [
    "# Train and test split\n",
    "\n",
    "Split data for train and test sets and add a column of ones"
   ]
  },
  {
   "cell_type": "code",
   "execution_count": 4,
   "metadata": {},
   "outputs": [],
   "source": [
    "Y = dataset['pm25_x'].to_numpy().reshape(-1, 1)\n",
    "X = dataset.drop('pm25_x', axis = 1).to_numpy()"
   ]
  },
  {
   "cell_type": "code",
   "execution_count": 5,
   "metadata": {},
   "outputs": [],
   "source": [
    "x_train, x_test, y_train, y_test = train_test_split(X, Y, test_size = 0.2, shuffle = True, random_state = 0)"
   ]
  },
  {
   "cell_type": "code",
   "execution_count": 6,
   "metadata": {},
   "outputs": [],
   "source": [
    "x_train = np.c_[np.ones(x_train.shape[0]), x_train]\n",
    "x_test = np.c_[np.ones(x_test.shape[0]), x_test]"
   ]
  },
  {
   "cell_type": "code",
   "execution_count": 7,
   "metadata": {
    "scrolled": true
   },
   "outputs": [
    {
     "name": "stdout",
     "output_type": "stream",
     "text": [
      "[[1.000e+00 2.400e+00 1.350e+01 7.300e+01 9.900e+02]\n",
      " [1.000e+00 6.500e+00 1.540e+01 6.800e+01 9.850e+02]\n",
      " [1.000e+00 2.730e+01 1.500e+00 7.900e+01 1.016e+03]\n",
      " [1.000e+00 3.400e+00 8.200e+00 8.400e+01 9.980e+02]\n",
      " [1.000e+00 3.180e+01 1.300e+01 8.100e+01 9.900e+02]]\n"
     ]
    }
   ],
   "source": [
    "print(x_train[:5, :])"
   ]
  },
  {
   "cell_type": "markdown",
   "metadata": {
    "collapsed": false
   },
   "source": [
    "# Equations\n",
    "\n",
    "Solve the normal equations:<br>\n",
    "$\\theta = (X^TX)^{-1} X^Ty$."
   ]
  },
  {
   "cell_type": "code",
   "execution_count": 8,
   "metadata": {},
   "outputs": [
    {
     "data": {
      "text/plain": [
       "array([ 6.37754529e+01,  6.18886854e-01,  4.25091470e-02, -9.12662720e-02,\n",
       "       -5.60257587e-02])"
      ]
     },
     "execution_count": 8,
     "metadata": {},
     "output_type": "execute_result"
    }
   ],
   "source": [
    "theta = np.linalg.inv(np.dot(x_train.T, x_train)).dot(x_train.T).dot(y_train)\n",
    "theta.ravel()"
   ]
  },
  {
   "cell_type": "markdown",
   "metadata": {
    "collapsed": false
   },
   "source": [
    "# Result"
   ]
  },
  {
   "cell_type": "code",
   "execution_count": 9,
   "metadata": {
    "collapsed": false
   },
   "outputs": [
    {
     "data": {
      "text/plain": [
       "array([ 6.37754529e+01,  6.18886854e-01,  4.25091470e-02, -9.12662720e-02,\n",
       "       -5.60257587e-02])"
      ]
     },
     "execution_count": 9,
     "metadata": {},
     "output_type": "execute_result"
    }
   ],
   "source": [
    "theta[:, 0]"
   ]
  },
  {
   "cell_type": "code",
   "execution_count": 10,
   "metadata": {},
   "outputs": [],
   "source": [
    "y_pred = x_test.dot(theta)"
   ]
  },
  {
   "cell_type": "code",
   "execution_count": 11,
   "metadata": {
    "collapsed": false
   },
   "outputs": [
    {
     "name": "stdout",
     "output_type": "stream",
     "text": [
      "R^2:  75.68508271256171\n",
      "Mean squared error:  14.365376207149913\n",
      "Mean absolute error:  2.126407135277209\n"
     ]
    }
   ],
   "source": [
    "r2 = r2_score(y_test, y_pred) * 100\n",
    "print('R^2: ', r2)\n",
    "print(\"Mean squared error: \", mean_squared_error(y_pred, y_test))\n",
    "print(\"Mean absolute error: \", mean_absolute_error(y_pred, y_test))"
   ]
  },
  {
   "cell_type": "code",
   "execution_count": 12,
   "metadata": {},
   "outputs": [
    {
     "data": {
      "image/png": "[encoded data removed]",
      "text/plain": [
       "<Figure size 432x288 with 1 Axes>"
      ]
     },
     "metadata": {
      "needs_background": "light"
     },
     "output_type": "display_data"
    }
   ],
   "source": [
    "plt.hist2d(y_test[:, 0], y_pred[:, 0], bins= 100, cmap = 'jet', norm = matplotlib.colors.LogNorm())\n",
    "\n",
    "plt.xlabel('PM 2,5 [dryer]')\n",
    "plt.ylabel('PM 2,5 [estimation]')\n",
    "plt.title('PM 2,5 predicted vs actual values')\n",
    "plt.grid(True)\n",
    "\n",
    "plt.show()"
   ]
  },
  {
   "cell_type": "code",
   "execution_count": 13,
   "metadata": {},
   "outputs": [
    {
     "data": {
      "image/png": "[encoded data removed]",
      "text/plain": [
       "<Figure size 432x288 with 1 Axes>"
      ]
     },
     "metadata": {
      "needs_background": "light"
     },
     "output_type": "display_data"
    }
   ],
   "source": [
    "plt.hist(y_pred - y_test, density = False, bins = 100)\n",
    "\n",
    "plt.yscale('log')\n",
    "plt.xlabel('Actual values - predicted values')\n",
    "plt.title('Difference between actual and predicted values')\n",
    "plt.grid(True)\n",
    "plt.show()"
   ]
  }
 ],
 "metadata": {
  "kernelspec": {
   "display_name": "Python 3",
   "language": "python",
   "name": "python3"
  },
  "language_info": {
   "codemirror_mode": {
    "name": "ipython",
    "version": 3
   },
   "file_extension": ".py",
   "mimetype": "text/x-python",
   "name": "python",
   "nbconvert_exporter": "python",
   "pygments_lexer": "ipython3",
   "version": "3.9.4"
  }
 },
 "nbformat": 4,
 "nbformat_minor": 4
}

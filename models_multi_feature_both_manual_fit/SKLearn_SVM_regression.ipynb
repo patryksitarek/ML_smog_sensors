{
 "cells": [
  {
   "cell_type": "markdown",
   "metadata": {},
   "source": [
    "# SciKit Learn Support Vector Machines regression"
   ]
  },
  {
   "cell_type": "markdown",
   "metadata": {},
   "source": [
    "# Imports"
   ]
  },
  {
   "cell_type": "code",
   "execution_count": 1,
   "metadata": {},
   "outputs": [],
   "source": [
    "import pandas as pd\n",
    "from sklearn import preprocessing\n",
    "from sklearn.svm import SVR\n",
    "from sklearn.experimental import enable_halving_search_cv\n",
    "from sklearn.model_selection import HalvingGridSearchCV, train_test_split, GridSearchCV\n",
    "from sklearn.metrics import r2_score, mean_squared_error, mean_absolute_error\n",
    "import matplotlib.pyplot as plt"
   ]
  },
  {
   "cell_type": "markdown",
   "metadata": {},
   "source": [
    "# Read data"
   ]
  },
  {
   "cell_type": "code",
   "execution_count": 2,
   "metadata": {},
   "outputs": [],
   "source": [
    "dataset = pd.concat([\n",
    "    pd.read_csv('../dataset/smog_part1.csv', index_col = 0),\n",
    "    pd.read_csv('../dataset/smog_part2_manual_fit.csv', index_col = 0)\n",
    "])\n",
    "\n",
    "dataset = dataset[dataset['humiditySht'] >= 60]"
   ]
  },
  {
   "cell_type": "code",
   "execution_count": 3,
   "metadata": {},
   "outputs": [
    {
     "data": {
      "text/html": [
       "<div>\n",
       "<style scoped>\n",
       "    .dataframe tbody tr th:only-of-type {\n",
       "        vertical-align: middle;\n",
       "    }\n",
       "\n",
       "    .dataframe tbody tr th {\n",
       "        vertical-align: top;\n",
       "    }\n",
       "\n",
       "    .dataframe thead th {\n",
       "        text-align: right;\n",
       "    }\n",
       "</style>\n",
       "<table border=\"1\" class=\"dataframe\">\n",
       "  <thead>\n",
       "    <tr style=\"text-align: right;\">\n",
       "      <th></th>\n",
       "      <th>pm25_x</th>\n",
       "      <th>pm25_y</th>\n",
       "      <th>temperatureSht</th>\n",
       "      <th>humiditySht</th>\n",
       "      <th>pressure</th>\n",
       "    </tr>\n",
       "  </thead>\n",
       "  <tbody>\n",
       "    <tr>\n",
       "      <th>0</th>\n",
       "      <td>19.0</td>\n",
       "      <td>13.8</td>\n",
       "      <td>6.1</td>\n",
       "      <td>72</td>\n",
       "      <td>986</td>\n",
       "    </tr>\n",
       "    <tr>\n",
       "      <th>1</th>\n",
       "      <td>16.7</td>\n",
       "      <td>14.4</td>\n",
       "      <td>5.9</td>\n",
       "      <td>74</td>\n",
       "      <td>986</td>\n",
       "    </tr>\n",
       "    <tr>\n",
       "      <th>2</th>\n",
       "      <td>21.8</td>\n",
       "      <td>15.1</td>\n",
       "      <td>5.7</td>\n",
       "      <td>75</td>\n",
       "      <td>986</td>\n",
       "    </tr>\n",
       "    <tr>\n",
       "      <th>3</th>\n",
       "      <td>21.8</td>\n",
       "      <td>18.0</td>\n",
       "      <td>5.7</td>\n",
       "      <td>76</td>\n",
       "      <td>986</td>\n",
       "    </tr>\n",
       "    <tr>\n",
       "      <th>4</th>\n",
       "      <td>25.0</td>\n",
       "      <td>19.0</td>\n",
       "      <td>5.5</td>\n",
       "      <td>77</td>\n",
       "      <td>986</td>\n",
       "    </tr>\n",
       "  </tbody>\n",
       "</table>\n",
       "</div>"
      ],
      "text/plain": [
       "   pm25_x  pm25_y  temperatureSht  humiditySht  pressure\n",
       "0    19.0    13.8             6.1           72       986\n",
       "1    16.7    14.4             5.9           74       986\n",
       "2    21.8    15.1             5.7           75       986\n",
       "3    21.8    18.0             5.7           76       986\n",
       "4    25.0    19.0             5.5           77       986"
      ]
     },
     "execution_count": 3,
     "metadata": {},
     "output_type": "execute_result"
    }
   ],
   "source": [
    "dataset = dataset[['pm25_x', 'pm25_y', 'temperatureSht', 'humiditySht', 'pressure']]\n",
    "dataset = dataset[dataset['humiditySht'] >= 60]\n",
    "\n",
    "dataset.head()"
   ]
  },
  {
   "cell_type": "markdown",
   "metadata": {},
   "source": [
    "# Train and test split\n",
    "\n",
    "Split data for train and test sets and normalze"
   ]
  },
  {
   "cell_type": "code",
   "execution_count": 4,
   "metadata": {},
   "outputs": [],
   "source": [
    "Y = dataset['pm25_x'].to_numpy().reshape(-1, 1)\n",
    "X = dataset.drop('pm25_x', axis = 1).to_numpy()"
   ]
  },
  {
   "cell_type": "code",
   "execution_count": 5,
   "metadata": {},
   "outputs": [],
   "source": [
    "x_train, x_test, y_train, y_test = train_test_split(X, Y, test_size = 0.2, shuffle = True, random_state = 0)"
   ]
  },
  {
   "cell_type": "code",
   "execution_count": 6,
   "metadata": {},
   "outputs": [],
   "source": [
    "scaler = preprocessing.StandardScaler().fit(x_train)\n",
    "y_scaler = max(y_train)\n",
    "\n",
    "x_train = scaler.transform(x_train)\n",
    "x_test = scaler.transform(x_test)\n",
    "\n",
    "y_train = y_train / y_scaler\n",
    "y_test = y_test / y_scaler"
   ]
  },
  {
   "cell_type": "markdown",
   "metadata": {},
   "source": [
    "# SKLearn SVR"
   ]
  },
  {
   "cell_type": "code",
   "execution_count": 7,
   "metadata": {
    "collapsed": false,
    "jupyter": {
     "outputs_hidden": false
    }
   },
   "outputs": [
    {
     "name": "stdout",
     "output_type": "stream",
     "text": [
      "R2 on train dataset:  36.78\n",
      "R2 on test dataset:  35.44\n"
     ]
    }
   ],
   "source": [
    "svr = SVR()\n",
    "\n",
    "svr.fit(x_train,y_train.ravel())\n",
    "\n",
    "train_dataset_score = svr.score(x_train,y_train)\n",
    "test_dataset_score = svr.score(x_test, y_test)\n",
    "\n",
    "print('R2 on train dataset: ', round(train_dataset_score * 100, 2))\n",
    "print('R2 on test dataset: ', round(test_dataset_score * 100, 2))"
   ]
  },
  {
   "cell_type": "code",
   "execution_count": 8,
   "metadata": {},
   "outputs": [],
   "source": [
    "svr = SVR(kernel='linear',\n",
    "          degree=1,\n",
    "          tol=1e-5,\n",
    "          C=16,\n",
    "          epsilon=0.01,\n",
    "          shrinking=True) \\\n",
    "        .fit(x_train,y_train.ravel())"
   ]
  },
  {
   "cell_type": "code",
   "execution_count": 10,
   "metadata": {},
   "outputs": [
    {
     "name": "stdout",
     "output_type": "stream",
     "text": [
      "R2:  75.35464230400133\n",
      "MSE:  14.560602073102846\n",
      "MAE:  2.0263295518798694\n"
     ]
    }
   ],
   "source": [
    "y_pred = svr.predict(x_test) * y_scaler\n",
    "\n",
    "r2 = r2_score(y_test * y_scaler,y_pred) * 100\n",
    "mse =  mean_squared_error(y_test * y_scaler, y_pred)\n",
    "mae = mean_absolute_error(y_test * y_scaler, y_pred)\n",
    "\n",
    "print('R2: ', r2)\n",
    "print('MSE: ',mse)\n",
    "print('MAE: ',mae)"
   ]
  }
 ],
 "metadata": {
  "kernelspec": {
   "display_name": "Python 3 (ipykernel)",
   "language": "python",
   "name": "python3"
  },
  "language_info": {
   "codemirror_mode": {
    "name": "ipython",
    "version": 3
   },
   "file_extension": ".py",
   "mimetype": "text/x-python",
   "name": "python",
   "nbconvert_exporter": "python",
   "pygments_lexer": "ipython3",
   "version": "3.9.4"
  }
 },
 "nbformat": 4,
 "nbformat_minor": 4
}

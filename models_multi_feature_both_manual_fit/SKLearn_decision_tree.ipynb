{
 "cells": [
  {
   "cell_type": "markdown",
   "metadata": {},
   "source": [
    "# SciKit Learn Decision Tree Regressor"
   ]
  },
  {
   "cell_type": "markdown",
   "metadata": {},
   "source": [
    "# Imports"
   ]
  },
  {
   "cell_type": "code",
   "execution_count": 1,
   "metadata": {},
   "outputs": [],
   "source": [
    "import pandas as pd\n",
    "from sklearn import preprocessing\n",
    "from sklearn.tree import DecisionTreeRegressor\n",
    "from sklearn.experimental import enable_halving_search_cv\n",
    "from sklearn.model_selection import GridSearchCV, HalvingGridSearchCV, train_test_split\n",
    "from sklearn.metrics import r2_score, mean_squared_error, mean_absolute_error\n",
    "from sklearn.tree import plot_tree, export_text\n",
    "import matplotlib.pyplot as plt"
   ]
  },
  {
   "cell_type": "markdown",
   "metadata": {},
   "source": [
    "# Read data"
   ]
  },
  {
   "cell_type": "code",
   "execution_count": 2,
   "metadata": {},
   "outputs": [],
   "source": [
    "dataset = pd.concat([\n",
    "    pd.read_csv('../dataset/smog_part1.csv', index_col = 0),\n",
    "    pd.read_csv('../dataset/smog_part2_manual_fit.csv', index_col = 0)\n",
    "])\n",
    "\n",
    "dataset = dataset[dataset['humiditySht'] >= 60]"
   ]
  },
  {
   "cell_type": "code",
   "execution_count": 3,
   "metadata": {},
   "outputs": [
    {
     "data": {
      "text/html": [
       "<div>\n",
       "<style scoped>\n",
       "    .dataframe tbody tr th:only-of-type {\n",
       "        vertical-align: middle;\n",
       "    }\n",
       "\n",
       "    .dataframe tbody tr th {\n",
       "        vertical-align: top;\n",
       "    }\n",
       "\n",
       "    .dataframe thead th {\n",
       "        text-align: right;\n",
       "    }\n",
       "</style>\n",
       "<table border=\"1\" class=\"dataframe\">\n",
       "  <thead>\n",
       "    <tr style=\"text-align: right;\">\n",
       "      <th></th>\n",
       "      <th>pm25_x</th>\n",
       "      <th>pm25_y</th>\n",
       "      <th>temperatureSht</th>\n",
       "      <th>humiditySht</th>\n",
       "      <th>pressure</th>\n",
       "    </tr>\n",
       "  </thead>\n",
       "  <tbody>\n",
       "    <tr>\n",
       "      <th>0</th>\n",
       "      <td>19.0</td>\n",
       "      <td>13.8</td>\n",
       "      <td>6.1</td>\n",
       "      <td>72</td>\n",
       "      <td>986</td>\n",
       "    </tr>\n",
       "    <tr>\n",
       "      <th>1</th>\n",
       "      <td>16.7</td>\n",
       "      <td>14.4</td>\n",
       "      <td>5.9</td>\n",
       "      <td>74</td>\n",
       "      <td>986</td>\n",
       "    </tr>\n",
       "    <tr>\n",
       "      <th>2</th>\n",
       "      <td>21.8</td>\n",
       "      <td>15.1</td>\n",
       "      <td>5.7</td>\n",
       "      <td>75</td>\n",
       "      <td>986</td>\n",
       "    </tr>\n",
       "    <tr>\n",
       "      <th>3</th>\n",
       "      <td>21.8</td>\n",
       "      <td>18.0</td>\n",
       "      <td>5.7</td>\n",
       "      <td>76</td>\n",
       "      <td>986</td>\n",
       "    </tr>\n",
       "    <tr>\n",
       "      <th>4</th>\n",
       "      <td>25.0</td>\n",
       "      <td>19.0</td>\n",
       "      <td>5.5</td>\n",
       "      <td>77</td>\n",
       "      <td>986</td>\n",
       "    </tr>\n",
       "  </tbody>\n",
       "</table>\n",
       "</div>"
      ],
      "text/plain": [
       "   pm25_x  pm25_y  temperatureSht  humiditySht  pressure\n",
       "0    19.0    13.8             6.1           72       986\n",
       "1    16.7    14.4             5.9           74       986\n",
       "2    21.8    15.1             5.7           75       986\n",
       "3    21.8    18.0             5.7           76       986\n",
       "4    25.0    19.0             5.5           77       986"
      ]
     },
     "execution_count": 3,
     "metadata": {},
     "output_type": "execute_result"
    }
   ],
   "source": [
    "dataset = dataset[['pm25_x', 'pm25_y', 'temperatureSht', 'humiditySht', 'pressure']]\n",
    "dataset = dataset[dataset['humiditySht'] >= 60]\n",
    "\n",
    "dataset.head()"
   ]
  },
  {
   "cell_type": "markdown",
   "metadata": {},
   "source": [
    "# Train and test split\n",
    "\n",
    "Split data for train and test sets and normalze"
   ]
  },
  {
   "cell_type": "code",
   "execution_count": 4,
   "metadata": {},
   "outputs": [],
   "source": [
    "Y = dataset['pm25_x'].to_numpy().reshape(-1, 1)\n",
    "X = dataset.drop('pm25_x', axis = 1).to_numpy()"
   ]
  },
  {
   "cell_type": "code",
   "execution_count": 5,
   "metadata": {},
   "outputs": [],
   "source": [
    "x_train, x_test, y_train, y_test = train_test_split(X, Y, test_size = 0.2, shuffle = True, random_state = 0)"
   ]
  },
  {
   "cell_type": "code",
   "execution_count": 6,
   "metadata": {},
   "outputs": [],
   "source": [
    "scaler = preprocessing.StandardScaler().fit(x_train)\n",
    "y_scaler = max(y_train)\n",
    "\n",
    "x_train = scaler.transform(x_train)\n",
    "x_test = scaler.transform(x_test)\n",
    "\n",
    "y_train = y_train / y_scaler\n",
    "y_test = y_test / y_scaler"
   ]
  },
  {
   "cell_type": "markdown",
   "metadata": {},
   "source": [
    "# SKLearn Decision Tree Regressor\n",
    "default values"
   ]
  },
  {
   "cell_type": "code",
   "execution_count": 7,
   "metadata": {},
   "outputs": [
    {
     "name": "stdout",
     "output_type": "stream",
     "text": [
      "R2 on train dataset:  99.96\n",
      "R2 on test dataset:  79.82\n"
     ]
    }
   ],
   "source": [
    "dtr = DecisionTreeRegressor()\n",
    "\n",
    "dtr.fit(x_train,y_train)\n",
    "\n",
    "train_dataset_score = dtr.score(x_train,y_train)\n",
    "test_dataset_score = dtr.score(x_test, y_test)\n",
    "\n",
    "print('R2 on train dataset: ', round(train_dataset_score * 100, 2))\n",
    "print('R2 on test dataset: ', round(test_dataset_score * 100, 2))"
   ]
  },
  {
   "cell_type": "markdown",
   "metadata": {},
   "source": [
    "### Best found model"
   ]
  },
  {
   "cell_type": "code",
   "execution_count": 15,
   "metadata": {},
   "outputs": [
    {
     "data": {
      "text/plain": [
       "DecisionTreeRegressor(criterion='absolute_error', max_features=4,\n",
       "                      min_samples_leaf=8, min_samples_split=4)"
      ]
     },
     "execution_count": 15,
     "metadata": {},
     "output_type": "execute_result"
    }
   ],
   "source": [
    "dtr = DecisionTreeRegressor(criterion = 'absolute_error',\n",
    "                            max_features = 4, \n",
    "                            min_samples_leaf = 8,\n",
    "                            min_samples_split = 4, \n",
    "                            splitter = 'best')\n",
    "\n",
    "dtr.fit(x_train,y_train)"
   ]
  },
  {
   "cell_type": "code",
   "execution_count": 16,
   "metadata": {},
   "outputs": [
    {
     "name": "stdout",
     "output_type": "stream",
     "text": [
      "R2:  83.90808244411004\n",
      "MSE:  9.50718634376051\n",
      "MAE:  1.3234106962663976\n"
     ]
    }
   ],
   "source": [
    "y_pred = dtr.predict(x_test) * y_scaler\n",
    "\n",
    "r2 = r2_score(y_test * y_scaler, y_pred) * 100\n",
    "mse = mean_squared_error(y_test * y_scaler, y_pred)\n",
    "mae = mean_absolute_error(y_test * y_scaler, y_pred)\n",
    "\n",
    "print('R2: ', r2)\n",
    "print('MSE: ',mse)\n",
    "print('MAE: ',mae)"
   ]
  },
  {
   "cell_type": "markdown",
   "metadata": {},
   "source": [
    "# step by step model"
   ]
  },
  {
   "cell_type": "code",
   "execution_count": 17,
   "metadata": {},
   "outputs": [
    {
     "name": "stdout",
     "output_type": "stream",
     "text": [
      "R2:  83.34494739549804\n",
      "MSE:  9.839889380876011\n",
      "MAE:  1.571667066654974\n"
     ]
    }
   ],
   "source": [
    "dtr = DecisionTreeRegressor(criterion='friedman_mse',\n",
    "                              splitter='best',\n",
    "                              max_depth=8,\n",
    "                              min_samples_split=2,\n",
    "                              min_samples_leaf=2,\n",
    "                              min_weight_fraction_leaf=0.,\n",
    "                              max_features=4,\n",
    "                              max_leaf_nodes=256,\n",
    "                              min_impurity_decrease=0.,\n",
    "                              ccp_alpha=0.)\n",
    "\n",
    "dtr.fit(x_train,y_train)\n",
    "\n",
    "y_pred = dtr.predict(x_test) * y_scaler\n",
    "\n",
    "r2 = r2_score(y_test * y_scaler, y_pred) * 100\n",
    "mse = mean_squared_error(y_test * y_scaler, y_pred)\n",
    "mae = mean_absolute_error(y_test * y_scaler, y_pred)\n",
    "\n",
    "print('R2: ', r2)\n",
    "print('MSE: ',mse)\n",
    "print('MAE: ',mae)"
   ]
  }
 ],
 "metadata": {
  "kernelspec": {
   "display_name": "Python 3 (ipykernel)",
   "language": "python",
   "name": "python3"
  },
  "language_info": {
   "codemirror_mode": {
    "name": "ipython",
    "version": 3
   },
   "file_extension": ".py",
   "mimetype": "text/x-python",
   "name": "python",
   "nbconvert_exporter": "python",
   "pygments_lexer": "ipython3",
   "version": "3.9.4"
  }
 },
 "nbformat": 4,
 "nbformat_minor": 4
}

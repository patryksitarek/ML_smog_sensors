{
 "cells": [
  {
   "cell_type": "markdown",
   "metadata": {
    "collapsed": false
   },
   "source": [
    "# SciKit Learn linear and polynomial regression"
   ]
  },
  {
   "cell_type": "markdown",
   "metadata": {
    "collapsed": false
   },
   "source": [
    "# Imports"
   ]
  },
  {
   "cell_type": "code",
   "execution_count": 1,
   "metadata": {},
   "outputs": [],
   "source": [
    "import pandas as pd\n",
    "import numpy as np\n",
    "import matplotlib\n",
    "import matplotlib.pyplot as plt\n",
    "from sklearn.model_selection import train_test_split\n",
    "from sklearn.metrics import r2_score, mean_absolute_error, mean_squared_error\n",
    "from sklearn import preprocessing\n",
    "from sklearn.linear_model import LinearRegression\n",
    "from sklearn.preprocessing import PolynomialFeatures"
   ]
  },
  {
   "cell_type": "markdown",
   "metadata": {
    "collapsed": false
   },
   "source": [
    "# Read data"
   ]
  },
  {
   "cell_type": "code",
   "execution_count": 2,
   "metadata": {},
   "outputs": [],
   "source": [
    "\n",
    "dataset = pd.concat([\n",
    "    pd.read_csv('../dataset/smog_part1.csv', index_col = 0),\n",
    "    pd.read_csv('../dataset/smog_part2_manual_fit.csv', index_col = 0)\n",
    "])\n"
   ]
  },
  {
   "cell_type": "code",
   "execution_count": 3,
   "metadata": {},
   "outputs": [
    {
     "data": {
      "text/html": [
       "<div>\n",
       "<style scoped>\n",
       "    .dataframe tbody tr th:only-of-type {\n",
       "        vertical-align: middle;\n",
       "    }\n",
       "\n",
       "    .dataframe tbody tr th {\n",
       "        vertical-align: top;\n",
       "    }\n",
       "\n",
       "    .dataframe thead th {\n",
       "        text-align: right;\n",
       "    }\n",
       "</style>\n",
       "<table border=\"1\" class=\"dataframe\">\n",
       "  <thead>\n",
       "    <tr style=\"text-align: right;\">\n",
       "      <th></th>\n",
       "      <th>pm25_x</th>\n",
       "      <th>pm25_y</th>\n",
       "      <th>temperatureSht</th>\n",
       "      <th>humiditySht</th>\n",
       "      <th>pressure</th>\n",
       "    </tr>\n",
       "  </thead>\n",
       "  <tbody>\n",
       "    <tr>\n",
       "      <th>0</th>\n",
       "      <td>19.0</td>\n",
       "      <td>13.8</td>\n",
       "      <td>6.1</td>\n",
       "      <td>72</td>\n",
       "      <td>986</td>\n",
       "    </tr>\n",
       "    <tr>\n",
       "      <th>1</th>\n",
       "      <td>16.7</td>\n",
       "      <td>14.4</td>\n",
       "      <td>5.9</td>\n",
       "      <td>74</td>\n",
       "      <td>986</td>\n",
       "    </tr>\n",
       "    <tr>\n",
       "      <th>2</th>\n",
       "      <td>21.8</td>\n",
       "      <td>15.1</td>\n",
       "      <td>5.7</td>\n",
       "      <td>75</td>\n",
       "      <td>986</td>\n",
       "    </tr>\n",
       "    <tr>\n",
       "      <th>3</th>\n",
       "      <td>21.8</td>\n",
       "      <td>18.0</td>\n",
       "      <td>5.7</td>\n",
       "      <td>76</td>\n",
       "      <td>986</td>\n",
       "    </tr>\n",
       "    <tr>\n",
       "      <th>4</th>\n",
       "      <td>25.0</td>\n",
       "      <td>19.0</td>\n",
       "      <td>5.5</td>\n",
       "      <td>77</td>\n",
       "      <td>986</td>\n",
       "    </tr>\n",
       "  </tbody>\n",
       "</table>\n",
       "</div>"
      ],
      "text/plain": [
       "   pm25_x  pm25_y  temperatureSht  humiditySht  pressure\n",
       "0    19.0    13.8             6.1           72       986\n",
       "1    16.7    14.4             5.9           74       986\n",
       "2    21.8    15.1             5.7           75       986\n",
       "3    21.8    18.0             5.7           76       986\n",
       "4    25.0    19.0             5.5           77       986"
      ]
     },
     "execution_count": 3,
     "metadata": {},
     "output_type": "execute_result"
    }
   ],
   "source": [
    "dataset = dataset[['pm25_x', 'pm25_y', 'temperatureSht', 'humiditySht', 'pressure']]\n",
    "dataset = dataset[dataset['humiditySht'] >= 60]\n",
    "\n",
    "dataset.head()"
   ]
  },
  {
   "cell_type": "markdown",
   "metadata": {
    "collapsed": false
   },
   "source": [
    "# Train and test split\n",
    "\n",
    "Split data for train and test sets and normalze"
   ]
  },
  {
   "cell_type": "code",
   "execution_count": 4,
   "metadata": {},
   "outputs": [],
   "source": [
    "Y = dataset['pm25_x'].to_numpy().reshape(-1, 1)\n",
    "X = dataset.drop('pm25_x', axis = 1).to_numpy()"
   ]
  },
  {
   "cell_type": "code",
   "execution_count": 5,
   "metadata": {},
   "outputs": [],
   "source": [
    "x_train, x_test, y_train, y_test = train_test_split(X, Y, test_size = 0.2, shuffle = True, random_state = 0)"
   ]
  },
  {
   "cell_type": "code",
   "execution_count": 6,
   "metadata": {},
   "outputs": [],
   "source": [
    "scaler = preprocessing.StandardScaler().fit(x_train)\n",
    "y_scaler = max(y_train)\n",
    "\n",
    "x_train = scaler.transform(x_train)\n",
    "x_test = scaler.transform(x_test)\n",
    "\n",
    "y_train = y_train / y_scaler"
   ]
  },
  {
   "cell_type": "markdown",
   "metadata": {
    "collapsed": false
   },
   "source": [
    "# SKLearn linear regression"
   ]
  },
  {
   "cell_type": "code",
   "execution_count": 7,
   "metadata": {
    "collapsed": false
   },
   "outputs": [
    {
     "data": {
      "text/plain": [
       "LinearRegression()"
      ]
     },
     "execution_count": 7,
     "metadata": {},
     "output_type": "execute_result"
    }
   ],
   "source": [
    "regr = LinearRegression()\n",
    "regr.fit(x_train, y_train)"
   ]
  },
  {
   "cell_type": "code",
   "execution_count": 8,
   "metadata": {
    "collapsed": false
   },
   "outputs": [
    {
     "name": "stdout",
     "output_type": "stream",
     "text": [
      "R^2:  75.68508271256029\n",
      "Mean squared error:  14.36537620715075\n",
      "Mean absolute error:  2.1264071352809326\n"
     ]
    }
   ],
   "source": [
    "y_pred = regr.predict(x_test) * y_scaler\n",
    "\n",
    "r2 = r2_score(y_test, y_pred) * 100\n",
    "print('R^2: ', r2)\n",
    "print(\"Mean squared error: \", mean_squared_error(y_test, y_pred))\n",
    "print(\"Mean absolute error: \", mean_absolute_error(y_test, y_pred))"
   ]
  },
  {
   "cell_type": "code",
   "execution_count": 9,
   "metadata": {
    "collapsed": false
   },
   "outputs": [
    {
     "data": {
      "text/plain": [
       "array([[ 0.06657412,  0.00271005, -0.00705906, -0.00411856]])"
      ]
     },
     "execution_count": 9,
     "metadata": {},
     "output_type": "execute_result"
    }
   ],
   "source": [
    "regr.coef_"
   ]
  },
  {
   "cell_type": "code",
   "execution_count": 10,
   "metadata": {
    "collapsed": false
   },
   "outputs": [
    {
     "data": {
      "image/png": "[encoded data removed]",
      "text/plain": [
       "<Figure size 432x288 with 1 Axes>"
      ]
     },
     "metadata": {
      "needs_background": "light"
     },
     "output_type": "display_data"
    }
   ],
   "source": [
    "plt.hist2d(y_test[:, 0], y_pred[:, 0], bins= 100, cmap = 'jet', norm = matplotlib.colors.LogNorm())\n",
    "plt.xlabel('PM 2,5 [dryer]')\n",
    "plt.ylabel('PM 2,5 [estimation]')\n",
    "plt.title('PM 2,5 predicted vs actual values')\n",
    "plt.grid(True)\n",
    "plt.show()"
   ]
  },
  {
   "cell_type": "code",
   "execution_count": 11,
   "metadata": {
    "collapsed": false
   },
   "outputs": [
    {
     "data": {
      "image/png": "[encoded data removed]",
      "text/plain": [
       "<Figure size 432x288 with 1 Axes>"
      ]
     },
     "metadata": {
      "needs_background": "light"
     },
     "output_type": "display_data"
    }
   ],
   "source": [
    "plt.hist(y_pred - y_test, density = False, bins = 100)\n",
    "\n",
    "plt.yscale('log')\n",
    "plt.xlabel('Actual values - predicted values')\n",
    "plt.title('Difference between actual and predicted values')\n",
    "plt.grid(True)\n",
    "plt.show()"
   ]
  },
  {
   "cell_type": "markdown",
   "metadata": {
    "collapsed": false
   },
   "source": [
    "# SKLearn polynomial"
   ]
  },
  {
   "cell_type": "code",
   "execution_count": 12,
   "metadata": {
    "collapsed": false
   },
   "outputs": [],
   "source": [
    "def polynomial_regressor(degree, x_train, y_train):\n",
    "    poly_model = PolynomialFeatures(degree = degree)\n",
    "\n",
    "    # transform out polynomial features\n",
    "    poly_x_values = poly_model.fit_transform(x_train)\n",
    "\n",
    "    # should be in the form [1, a, b, a^2, ab, b^2]\n",
    "    print(f'Initial values {x_train[0]}\\nMapped to {poly_x_values[0]}')\n",
    "\n",
    "    # fit the model\n",
    "    poly_model.fit(poly_x_values, y_train)\n",
    "\n",
    "    # linear regression as a base\n",
    "    regression_model = LinearRegression()\n",
    "    regression_model.fit(poly_x_values, y_train)\n",
    "\n",
    "    print('Coefficients: ', regression_model.coef_)\n",
    "    return regression_model, poly_model"
   ]
  },
  {
   "cell_type": "markdown",
   "metadata": {},
   "source": [
    "### Second-degree polynomial"
   ]
  },
  {
   "cell_type": "code",
   "execution_count": 13,
   "metadata": {
    "collapsed": false
   },
   "outputs": [
    {
     "name": "stdout",
     "output_type": "stream",
     "text": [
      "Initial values [-0.91912463  0.16683804 -0.42975215 -0.06721541]\n",
      "Mapped to [ 1.         -0.91912463  0.16683804 -0.42975215 -0.06721541  0.84479009\n",
      " -0.15334495  0.39499579  0.06177934  0.02783493 -0.07169901 -0.01121409\n",
      "  0.18468691  0.02888597  0.00451791]\n",
      "Coefficients:  [[ 0.          0.07958564  0.00156331 -0.01190321 -0.00101954 -0.00097725\n",
      "   0.00714928 -0.00980158  0.00091593 -0.00265999 -0.00215975 -0.0004148\n",
      "  -0.00432696 -0.00198622 -0.00271528]]\n"
     ]
    }
   ],
   "source": [
    "second_degree_model, poly_model = polynomial_regressor(2, x_train, y_train)\n",
    "\n",
    "y_pred = second_degree_model.predict(poly_model.fit_transform(x_test)) * y_scaler"
   ]
  },
  {
   "cell_type": "code",
   "execution_count": 14,
   "metadata": {
    "collapsed": false
   },
   "outputs": [
    {
     "name": "stdout",
     "output_type": "stream",
     "text": [
      "R^2:  80.45636592012148\n",
      "Mean squared error:  11.546477937532377\n",
      "Mean absolute error:  1.740224947605428\n"
     ]
    }
   ],
   "source": [
    "print('R^2: ', r2_score(y_test, y_pred) * 100)\n",
    "print(\"Mean squared error: \", mean_squared_error(y_test, y_pred))\n",
    "print(\"Mean absolute error: \", mean_absolute_error(y_test, y_pred))"
   ]
  },
  {
   "cell_type": "code",
   "execution_count": 15,
   "metadata": {
    "collapsed": false
   },
   "outputs": [
    {
     "data": {
      "image/png": "[encoded data removed]",
      "text/plain": [
       "<Figure size 432x288 with 1 Axes>"
      ]
     },
     "metadata": {
      "needs_background": "light"
     },
     "output_type": "display_data"
    }
   ],
   "source": [
    "plt.hist2d(y_test[:, 0], y_pred[:, 0], bins= 100, cmap = 'jet', norm = matplotlib.colors.LogNorm())\n",
    "plt.xlabel('PM 2,5 [dryer]')\n",
    "plt.ylabel('PM 2,5 [estimation]')\n",
    "plt.title('PM 2,5 predicted vs actual values')\n",
    "plt.grid(True)\n",
    "plt.show()"
   ]
  },
  {
   "cell_type": "code",
   "execution_count": 16,
   "metadata": {
    "collapsed": false
   },
   "outputs": [
    {
     "data": {
      "image/png": "[encoded data removed]",
      "text/plain": [
       "<Figure size 432x288 with 1 Axes>"
      ]
     },
     "metadata": {
      "needs_background": "light"
     },
     "output_type": "display_data"
    }
   ],
   "source": [
    "plt.hist(y_pred - y_test, density = False, bins = 100)\n",
    "\n",
    "plt.yscale('log')\n",
    "plt.xlabel('Actual values - predicted values')\n",
    "plt.title('Difference between actual and predicted values')\n",
    "plt.grid(True)\n",
    "plt.show()"
   ]
  },
  {
   "cell_type": "markdown",
   "metadata": {},
   "source": [
    "### third-degree polynomial"
   ]
  },
  {
   "cell_type": "code",
   "execution_count": 17,
   "metadata": {},
   "outputs": [
    {
     "name": "stdout",
     "output_type": "stream",
     "text": [
      "Initial values [-0.91912463  0.16683804 -0.42975215 -0.06721541]\n",
      "Mapped to [ 1.00000000e+00 -9.19124634e-01  1.66838038e-01 -4.29752151e-01\n",
      " -6.72154124e-02  8.44790093e-01 -1.53344951e-01  3.94995788e-01\n",
      "  6.17793413e-02  2.78349311e-02 -7.16990058e-02 -1.12140876e-02\n",
      "  1.84686911e-01  2.88859680e-02  4.51791166e-03 -7.76467385e-01\n",
      "  1.40943122e-01 -3.63050359e-01 -5.67829145e-02 -2.55837708e-02\n",
      "  6.59003225e-02  1.03071441e-02 -1.69750289e-01 -2.65498048e-02\n",
      " -4.15252391e-03  4.64392530e-03 -1.19621215e-02 -1.87093637e-03\n",
      "  3.08128019e-02  4.81927825e-03  7.53759520e-04 -7.93695972e-02\n",
      " -1.24138069e-02 -1.94158225e-03 -3.03673296e-04]\n",
      "Coefficients:  [[-1.02032809e-17  8.53711509e-02 -2.14427927e-03 -9.85178988e-03\n",
      "  -1.87900573e-03 -3.20870058e-03  5.17606095e-03 -9.21542005e-03\n",
      "  -2.07855556e-03 -2.26866730e-03  1.72111622e-05 -4.85685727e-04\n",
      "  -5.62157752e-03 -2.24004473e-04 -2.20429352e-03  1.73189288e-04\n",
      "   1.12422031e-03  7.08978266e-04  1.08632661e-03 -9.99641066e-04\n",
      "   2.90764623e-03 -1.67369861e-03 -3.82703181e-03  4.08151039e-04\n",
      "  -5.45842942e-07  1.48801784e-04  2.33490378e-04  1.01583231e-03\n",
      "   1.73112875e-03  6.37071451e-04  1.54018175e-03 -9.15707551e-04\n",
      "  -3.49912515e-04  1.37350621e-03 -2.44335048e-04]]\n"
     ]
    }
   ],
   "source": [
    "third_degree_model, poly_model = polynomial_regressor(3, x_train, y_train)\n",
    "\n",
    "y_pred = third_degree_model.predict(poly_model.fit_transform(x_test)) * y_scaler"
   ]
  },
  {
   "cell_type": "code",
   "execution_count": 18,
   "metadata": {},
   "outputs": [
    {
     "name": "stdout",
     "output_type": "stream",
     "text": [
      "R^2:  81.28231684818957\n",
      "Mean squared error:  11.058501948550816\n",
      "Mean absolute error:  1.6666111344979806\n"
     ]
    }
   ],
   "source": [
    "print('R^2: ', r2_score(y_test, y_pred) * 100)\n",
    "print(\"Mean squared error: \", mean_squared_error(y_test, y_pred))\n",
    "print(\"Mean absolute error: \", mean_absolute_error(y_test, y_pred))"
   ]
  },
  {
   "cell_type": "code",
   "execution_count": 19,
   "metadata": {},
   "outputs": [
    {
     "data": {
      "image/png": "[encoded data removed]",
      "text/plain": [
       "<Figure size 432x288 with 1 Axes>"
      ]
     },
     "metadata": {
      "needs_background": "light"
     },
     "output_type": "display_data"
    }
   ],
   "source": [
    "plt.hist2d(y_test[:, 0], y_pred[:, 0], bins= 100, cmap = 'jet', norm = matplotlib.colors.LogNorm())\n",
    "plt.xlabel('PM 2,5 [dryer]')\n",
    "plt.ylabel('PM 2,5 [estimation]')\n",
    "plt.title('PM 2,5 predicted vs actual values')\n",
    "plt.grid(True)\n",
    "plt.show()"
   ]
  },
  {
   "cell_type": "code",
   "execution_count": 20,
   "metadata": {},
   "outputs": [
    {
     "data": {
      "image/png": "[encoded data removed]",
      "text/plain": [
       "<Figure size 432x288 with 1 Axes>"
      ]
     },
     "metadata": {
      "needs_background": "light"
     },
     "output_type": "display_data"
    }
   ],
   "source": [
    "plt.hist(y_pred - y_test, density = False, bins = 100)\n",
    "\n",
    "plt.yscale('log')\n",
    "plt.xlabel('Actual values - predicted values')\n",
    "plt.title('Difference between actual and predicted values')\n",
    "plt.grid(True)\n",
    "plt.show()"
   ]
  },
  {
   "cell_type": "code",
   "execution_count": null,
   "metadata": {},
   "outputs": [],
   "source": []
  }
 ],
 "metadata": {
  "kernelspec": {
   "display_name": "Python 3",
   "language": "python",
   "name": "python3"
  },
  "language_info": {
   "codemirror_mode": {
    "name": "ipython",
    "version": 3
   },
   "file_extension": ".py",
   "mimetype": "text/x-python",
   "name": "python",
   "nbconvert_exporter": "python",
   "pygments_lexer": "ipython3",
   "version": "3.9.4"
  }
 },
 "nbformat": 4,
 "nbformat_minor": 4
}

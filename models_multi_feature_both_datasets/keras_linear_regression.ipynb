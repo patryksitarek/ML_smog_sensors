{
 "cells": [
  {
   "cell_type": "markdown",
   "metadata": {},
   "source": [
    "# Keras liner regression\n",
    "Fit values from smog sensor without dryer to dryer version"
   ]
  },
  {
   "cell_type": "markdown",
   "metadata": {},
   "source": [
    "### Imports"
   ]
  },
  {
   "cell_type": "code",
   "execution_count": 1,
   "metadata": {},
   "outputs": [],
   "source": [
    "import keras\n",
    "import tensorflow as tf\n",
    "import pandas as pd\n",
    "import numpy as np\n",
    "import matplotlib\n",
    "import matplotlib.pyplot as plt\n",
    "from sklearn.model_selection import train_test_split\n",
    "from sklearn.metrics import r2_score, mean_squared_error, mean_absolute_error\n",
    "import seaborn as sns\n",
    "from tensorflow.keras import models\n",
    "from tensorflow.keras import layers\n",
    "from sklearn import preprocessing\n",
    "from tensorflow.keras.optimizers import Adam"
   ]
  },
  {
   "cell_type": "markdown",
   "metadata": {},
   "source": [
    "### Config GPU"
   ]
  },
  {
   "cell_type": "code",
   "execution_count": 2,
   "metadata": {},
   "outputs": [
    {
     "name": "stdout",
     "output_type": "stream",
     "text": [
      "Keras version: 2.7.0\n",
      "Num GPUs: 1\n"
     ]
    }
   ],
   "source": [
    "print(f'Keras version: {keras.__version__}')\n",
    "\n",
    "gpu_info = tf.config.list_physical_devices(\"GPU\")\n",
    "print(f'Num GPUs: {len(gpu_info)}')\n",
    "\n",
    "if len(gpu_info) > 0:\n",
    "    config = tf.compat.v1.ConfigProto()\n",
    "    config.gpu_options.allow_growth = True\n",
    "    config.log_device_placement = True\n",
    "\n",
    "    gpus = tf.config.experimental.list_physical_devices('GPU')\n",
    "    tf.config.experimental.set_memory_growth(gpus[0], True)"
   ]
  },
  {
   "cell_type": "markdown",
   "metadata": {},
   "source": [
    "# Read and show data"
   ]
  },
  {
   "cell_type": "code",
   "execution_count": 3,
   "metadata": {},
   "outputs": [],
   "source": [
    "dataset = pd.concat([\n",
    "    pd.read_csv('../dataset/smog_part1.csv', index_col = 0),\n",
    "    pd.read_csv('../dataset/smog_part2.csv', index_col = 0)\n",
    "])\n",
    "\n",
    "dataset = dataset[dataset['humiditySht'] >= 60]"
   ]
  },
  {
   "cell_type": "code",
   "execution_count": 4,
   "metadata": {},
   "outputs": [
    {
     "name": "stdout",
     "output_type": "stream",
     "text": [
      "<class 'pandas.core.frame.DataFrame'>\n",
      "Int64Index: 29726 entries, 0 to 13412\n",
      "Data columns (total 15 columns):\n",
      " #   Column             Non-Null Count  Dtype  \n",
      "---  ------             --------------  -----  \n",
      " 0   index              29726 non-null  int64  \n",
      " 1   date               29726 non-null  object \n",
      " 2   pm25_x             29726 non-null  float64\n",
      " 3   pm10_x             29726 non-null  float64\n",
      " 4   pressure           29726 non-null  int64  \n",
      " 5   temperatureHeca_x  29726 non-null  float64\n",
      " 6   humidityHeca_x     29726 non-null  int64  \n",
      " 7   pm25_y             29726 non-null  float64\n",
      " 8   pm10_y             29726 non-null  float64\n",
      " 9   temperatureSht     29726 non-null  float64\n",
      " 10  humiditySht        29726 non-null  int64  \n",
      " 11  temperatureHeca_y  29726 non-null  float64\n",
      " 12  humidityHeca_y     29726 non-null  int64  \n",
      " 13  pm25_ratio         29726 non-null  float64\n",
      " 14  pm10_ratio         29726 non-null  float64\n",
      "dtypes: float64(9), int64(5), object(1)\n",
      "memory usage: 3.6+ MB\n"
     ]
    }
   ],
   "source": [
    "dataset.info()"
   ]
  },
  {
   "cell_type": "code",
   "execution_count": 5,
   "metadata": {},
   "outputs": [
    {
     "data": {
      "text/html": [
       "<div>\n",
       "<style scoped>\n",
       "    .dataframe tbody tr th:only-of-type {\n",
       "        vertical-align: middle;\n",
       "    }\n",
       "\n",
       "    .dataframe tbody tr th {\n",
       "        vertical-align: top;\n",
       "    }\n",
       "\n",
       "    .dataframe thead th {\n",
       "        text-align: right;\n",
       "    }\n",
       "</style>\n",
       "<table border=\"1\" class=\"dataframe\">\n",
       "  <thead>\n",
       "    <tr style=\"text-align: right;\">\n",
       "      <th></th>\n",
       "      <th>index</th>\n",
       "      <th>pm25_x</th>\n",
       "      <th>pm10_x</th>\n",
       "      <th>pressure</th>\n",
       "      <th>temperatureHeca_x</th>\n",
       "      <th>humidityHeca_x</th>\n",
       "      <th>pm25_y</th>\n",
       "      <th>pm10_y</th>\n",
       "      <th>temperatureSht</th>\n",
       "      <th>humiditySht</th>\n",
       "      <th>temperatureHeca_y</th>\n",
       "      <th>humidityHeca_y</th>\n",
       "      <th>pm25_ratio</th>\n",
       "      <th>pm10_ratio</th>\n",
       "    </tr>\n",
       "  </thead>\n",
       "  <tbody>\n",
       "    <tr>\n",
       "      <th>count</th>\n",
       "      <td>29726.000000</td>\n",
       "      <td>29726.000000</td>\n",
       "      <td>29726.000000</td>\n",
       "      <td>29726.000000</td>\n",
       "      <td>29726.000000</td>\n",
       "      <td>29726.000000</td>\n",
       "      <td>29726.000000</td>\n",
       "      <td>29726.000000</td>\n",
       "      <td>29726.000000</td>\n",
       "      <td>29726.000000</td>\n",
       "      <td>29726.000000</td>\n",
       "      <td>29726.000000</td>\n",
       "      <td>29726.000000</td>\n",
       "      <td>29726.000000</td>\n",
       "    </tr>\n",
       "    <tr>\n",
       "      <th>mean</th>\n",
       "      <td>12007.792471</td>\n",
       "      <td>9.771335</td>\n",
       "      <td>19.256718</td>\n",
       "      <td>990.509958</td>\n",
       "      <td>16.028443</td>\n",
       "      <td>57.345186</td>\n",
       "      <td>13.528346</td>\n",
       "      <td>28.089555</td>\n",
       "      <td>12.365626</td>\n",
       "      <td>76.459362</td>\n",
       "      <td>13.180539</td>\n",
       "      <td>70.159692</td>\n",
       "      <td>1.351715</td>\n",
       "      <td>1.377657</td>\n",
       "    </tr>\n",
       "    <tr>\n",
       "      <th>std</th>\n",
       "      <td>7844.857803</td>\n",
       "      <td>7.679175</td>\n",
       "      <td>15.852984</td>\n",
       "      <td>7.762511</td>\n",
       "      <td>6.751120</td>\n",
       "      <td>3.263134</td>\n",
       "      <td>12.404336</td>\n",
       "      <td>28.425659</td>\n",
       "      <td>6.756077</td>\n",
       "      <td>8.154807</td>\n",
       "      <td>6.730439</td>\n",
       "      <td>8.825574</td>\n",
       "      <td>0.487733</td>\n",
       "      <td>0.438298</td>\n",
       "    </tr>\n",
       "    <tr>\n",
       "      <th>min</th>\n",
       "      <td>1.000000</td>\n",
       "      <td>0.300000</td>\n",
       "      <td>0.800000</td>\n",
       "      <td>963.000000</td>\n",
       "      <td>-4.200000</td>\n",
       "      <td>38.000000</td>\n",
       "      <td>0.300000</td>\n",
       "      <td>0.900000</td>\n",
       "      <td>-7.700000</td>\n",
       "      <td>60.000000</td>\n",
       "      <td>-6.300000</td>\n",
       "      <td>40.000000</td>\n",
       "      <td>0.050000</td>\n",
       "      <td>0.060000</td>\n",
       "    </tr>\n",
       "    <tr>\n",
       "      <th>25%</th>\n",
       "      <td>5495.250000</td>\n",
       "      <td>4.400000</td>\n",
       "      <td>9.200000</td>\n",
       "      <td>986.000000</td>\n",
       "      <td>11.800000</td>\n",
       "      <td>55.000000</td>\n",
       "      <td>5.200000</td>\n",
       "      <td>11.200000</td>\n",
       "      <td>8.200000</td>\n",
       "      <td>70.000000</td>\n",
       "      <td>9.100000</td>\n",
       "      <td>63.000000</td>\n",
       "      <td>1.050000</td>\n",
       "      <td>1.100000</td>\n",
       "    </tr>\n",
       "    <tr>\n",
       "      <th>50%</th>\n",
       "      <td>10680.500000</td>\n",
       "      <td>7.700000</td>\n",
       "      <td>14.300000</td>\n",
       "      <td>991.000000</td>\n",
       "      <td>16.400000</td>\n",
       "      <td>58.000000</td>\n",
       "      <td>9.800000</td>\n",
       "      <td>19.000000</td>\n",
       "      <td>12.700000</td>\n",
       "      <td>78.000000</td>\n",
       "      <td>13.500000</td>\n",
       "      <td>71.000000</td>\n",
       "      <td>1.220000</td>\n",
       "      <td>1.310000</td>\n",
       "    </tr>\n",
       "    <tr>\n",
       "      <th>75%</th>\n",
       "      <td>19169.750000</td>\n",
       "      <td>12.800000</td>\n",
       "      <td>23.200000</td>\n",
       "      <td>995.000000</td>\n",
       "      <td>20.800000</td>\n",
       "      <td>60.000000</td>\n",
       "      <td>17.400000</td>\n",
       "      <td>33.500000</td>\n",
       "      <td>17.200000</td>\n",
       "      <td>83.000000</td>\n",
       "      <td>18.000000</td>\n",
       "      <td>77.000000</td>\n",
       "      <td>1.510000</td>\n",
       "      <td>1.570000</td>\n",
       "    </tr>\n",
       "    <tr>\n",
       "      <th>max</th>\n",
       "      <td>26681.000000</td>\n",
       "      <td>105.600000</td>\n",
       "      <td>267.400000</td>\n",
       "      <td>1016.000000</td>\n",
       "      <td>36.000000</td>\n",
       "      <td>96.000000</td>\n",
       "      <td>220.600000</td>\n",
       "      <td>630.500000</td>\n",
       "      <td>30.600000</td>\n",
       "      <td>98.000000</td>\n",
       "      <td>31.000000</td>\n",
       "      <td>96.000000</td>\n",
       "      <td>9.910000</td>\n",
       "      <td>5.080000</td>\n",
       "    </tr>\n",
       "  </tbody>\n",
       "</table>\n",
       "</div>"
      ],
      "text/plain": [
       "              index        pm25_x        pm10_x      pressure  \\\n",
       "count  29726.000000  29726.000000  29726.000000  29726.000000   \n",
       "mean   12007.792471      9.771335     19.256718    990.509958   \n",
       "std     7844.857803      7.679175     15.852984      7.762511   \n",
       "min        1.000000      0.300000      0.800000    963.000000   \n",
       "25%     5495.250000      4.400000      9.200000    986.000000   \n",
       "50%    10680.500000      7.700000     14.300000    991.000000   \n",
       "75%    19169.750000     12.800000     23.200000    995.000000   \n",
       "max    26681.000000    105.600000    267.400000   1016.000000   \n",
       "\n",
       "       temperatureHeca_x  humidityHeca_x        pm25_y        pm10_y  \\\n",
       "count       29726.000000    29726.000000  29726.000000  29726.000000   \n",
       "mean           16.028443       57.345186     13.528346     28.089555   \n",
       "std             6.751120        3.263134     12.404336     28.425659   \n",
       "min            -4.200000       38.000000      0.300000      0.900000   \n",
       "25%            11.800000       55.000000      5.200000     11.200000   \n",
       "50%            16.400000       58.000000      9.800000     19.000000   \n",
       "75%            20.800000       60.000000     17.400000     33.500000   \n",
       "max            36.000000       96.000000    220.600000    630.500000   \n",
       "\n",
       "       temperatureSht   humiditySht  temperatureHeca_y  humidityHeca_y  \\\n",
       "count    29726.000000  29726.000000       29726.000000    29726.000000   \n",
       "mean        12.365626     76.459362          13.180539       70.159692   \n",
       "std          6.756077      8.154807           6.730439        8.825574   \n",
       "min         -7.700000     60.000000          -6.300000       40.000000   \n",
       "25%          8.200000     70.000000           9.100000       63.000000   \n",
       "50%         12.700000     78.000000          13.500000       71.000000   \n",
       "75%         17.200000     83.000000          18.000000       77.000000   \n",
       "max         30.600000     98.000000          31.000000       96.000000   \n",
       "\n",
       "         pm25_ratio    pm10_ratio  \n",
       "count  29726.000000  29726.000000  \n",
       "mean       1.351715      1.377657  \n",
       "std        0.487733      0.438298  \n",
       "min        0.050000      0.060000  \n",
       "25%        1.050000      1.100000  \n",
       "50%        1.220000      1.310000  \n",
       "75%        1.510000      1.570000  \n",
       "max        9.910000      5.080000  "
      ]
     },
     "execution_count": 5,
     "metadata": {},
     "output_type": "execute_result"
    }
   ],
   "source": [
    "dataset.describe()"
   ]
  },
  {
   "cell_type": "code",
   "execution_count": 6,
   "metadata": {},
   "outputs": [
    {
     "data": {
      "image/png": "[encoded data removed]",
      "text/plain": [
       "<Figure size 720x2880 with 13 Axes>"
      ]
     },
     "metadata": {
      "needs_background": "light"
     },
     "output_type": "display_data"
    }
   ],
   "source": [
    "fig = plt.figure(figsize = (10, 40))\n",
    "\n",
    "for i, key in enumerate(dataset.keys()[2:]):\n",
    "    plt.subplot(10, 2, i+1)\n",
    "    plt.hist(dataset[key], bins = 100)\n",
    "    plt.yscale('log', nonpositive = 'clip')\n",
    "    plt.xlabel(key)\n",
    "\n",
    "fig.tight_layout()\n",
    "plt.show()"
   ]
  },
  {
   "cell_type": "code",
   "execution_count": 7,
   "metadata": {},
   "outputs": [
    {
     "data": {
      "text/html": [
       "<div>\n",
       "<style scoped>\n",
       "    .dataframe tbody tr th:only-of-type {\n",
       "        vertical-align: middle;\n",
       "    }\n",
       "\n",
       "    .dataframe tbody tr th {\n",
       "        vertical-align: top;\n",
       "    }\n",
       "\n",
       "    .dataframe thead th {\n",
       "        text-align: right;\n",
       "    }\n",
       "</style>\n",
       "<table border=\"1\" class=\"dataframe\">\n",
       "  <thead>\n",
       "    <tr style=\"text-align: right;\">\n",
       "      <th></th>\n",
       "      <th>pm25_ratio</th>\n",
       "      <th>pm10_ratio</th>\n",
       "      <th>pm25_y</th>\n",
       "      <th>pm10_y</th>\n",
       "      <th>pressure</th>\n",
       "      <th>temperatureSht</th>\n",
       "      <th>humiditySht</th>\n",
       "    </tr>\n",
       "  </thead>\n",
       "  <tbody>\n",
       "    <tr>\n",
       "      <th>0</th>\n",
       "      <td>0.73</td>\n",
       "      <td>1.05</td>\n",
       "      <td>13.8</td>\n",
       "      <td>24.4</td>\n",
       "      <td>986</td>\n",
       "      <td>6.1</td>\n",
       "      <td>72</td>\n",
       "    </tr>\n",
       "    <tr>\n",
       "      <th>1</th>\n",
       "      <td>0.86</td>\n",
       "      <td>1.31</td>\n",
       "      <td>14.4</td>\n",
       "      <td>27.0</td>\n",
       "      <td>986</td>\n",
       "      <td>5.9</td>\n",
       "      <td>74</td>\n",
       "    </tr>\n",
       "    <tr>\n",
       "      <th>2</th>\n",
       "      <td>0.69</td>\n",
       "      <td>1.18</td>\n",
       "      <td>15.1</td>\n",
       "      <td>29.1</td>\n",
       "      <td>986</td>\n",
       "      <td>5.7</td>\n",
       "      <td>75</td>\n",
       "    </tr>\n",
       "    <tr>\n",
       "      <th>3</th>\n",
       "      <td>0.83</td>\n",
       "      <td>1.31</td>\n",
       "      <td>18.0</td>\n",
       "      <td>33.7</td>\n",
       "      <td>986</td>\n",
       "      <td>5.7</td>\n",
       "      <td>76</td>\n",
       "    </tr>\n",
       "    <tr>\n",
       "      <th>4</th>\n",
       "      <td>0.76</td>\n",
       "      <td>1.22</td>\n",
       "      <td>19.0</td>\n",
       "      <td>36.0</td>\n",
       "      <td>986</td>\n",
       "      <td>5.5</td>\n",
       "      <td>77</td>\n",
       "    </tr>\n",
       "    <tr>\n",
       "      <th>...</th>\n",
       "      <td>...</td>\n",
       "      <td>...</td>\n",
       "      <td>...</td>\n",
       "      <td>...</td>\n",
       "      <td>...</td>\n",
       "      <td>...</td>\n",
       "      <td>...</td>\n",
       "    </tr>\n",
       "    <tr>\n",
       "      <th>13408</th>\n",
       "      <td>2.16</td>\n",
       "      <td>1.81</td>\n",
       "      <td>9.7</td>\n",
       "      <td>18.6</td>\n",
       "      <td>999</td>\n",
       "      <td>10.9</td>\n",
       "      <td>76</td>\n",
       "    </tr>\n",
       "    <tr>\n",
       "      <th>13409</th>\n",
       "      <td>0.84</td>\n",
       "      <td>0.96</td>\n",
       "      <td>5.8</td>\n",
       "      <td>12.8</td>\n",
       "      <td>1000</td>\n",
       "      <td>10.8</td>\n",
       "      <td>77</td>\n",
       "    </tr>\n",
       "    <tr>\n",
       "      <th>13410</th>\n",
       "      <td>1.41</td>\n",
       "      <td>1.09</td>\n",
       "      <td>5.2</td>\n",
       "      <td>10.7</td>\n",
       "      <td>1000</td>\n",
       "      <td>10.7</td>\n",
       "      <td>77</td>\n",
       "    </tr>\n",
       "    <tr>\n",
       "      <th>13411</th>\n",
       "      <td>1.47</td>\n",
       "      <td>1.40</td>\n",
       "      <td>5.6</td>\n",
       "      <td>11.8</td>\n",
       "      <td>1000</td>\n",
       "      <td>10.6</td>\n",
       "      <td>78</td>\n",
       "    </tr>\n",
       "    <tr>\n",
       "      <th>13412</th>\n",
       "      <td>1.78</td>\n",
       "      <td>1.73</td>\n",
       "      <td>6.4</td>\n",
       "      <td>13.7</td>\n",
       "      <td>1000</td>\n",
       "      <td>10.6</td>\n",
       "      <td>78</td>\n",
       "    </tr>\n",
       "  </tbody>\n",
       "</table>\n",
       "<p>29726 rows × 7 columns</p>\n",
       "</div>"
      ],
      "text/plain": [
       "       pm25_ratio  pm10_ratio  pm25_y  pm10_y  pressure  temperatureSht  \\\n",
       "0            0.73        1.05    13.8    24.4       986             6.1   \n",
       "1            0.86        1.31    14.4    27.0       986             5.9   \n",
       "2            0.69        1.18    15.1    29.1       986             5.7   \n",
       "3            0.83        1.31    18.0    33.7       986             5.7   \n",
       "4            0.76        1.22    19.0    36.0       986             5.5   \n",
       "...           ...         ...     ...     ...       ...             ...   \n",
       "13408        2.16        1.81     9.7    18.6       999            10.9   \n",
       "13409        0.84        0.96     5.8    12.8      1000            10.8   \n",
       "13410        1.41        1.09     5.2    10.7      1000            10.7   \n",
       "13411        1.47        1.40     5.6    11.8      1000            10.6   \n",
       "13412        1.78        1.73     6.4    13.7      1000            10.6   \n",
       "\n",
       "       humiditySht  \n",
       "0               72  \n",
       "1               74  \n",
       "2               75  \n",
       "3               76  \n",
       "4               77  \n",
       "...            ...  \n",
       "13408           76  \n",
       "13409           77  \n",
       "13410           77  \n",
       "13411           78  \n",
       "13412           78  \n",
       "\n",
       "[29726 rows x 7 columns]"
      ]
     },
     "execution_count": 7,
     "metadata": {},
     "output_type": "execute_result"
    }
   ],
   "source": [
    "dataset[['pm25_ratio', 'pm10_ratio', 'pm25_y', 'pm10_y', 'pressure', 'temperatureSht', 'humiditySht']]"
   ]
  },
  {
   "cell_type": "code",
   "execution_count": 8,
   "metadata": {},
   "outputs": [
    {
     "data": {
      "text/plain": [
       "<AxesSubplot:>"
      ]
     },
     "execution_count": 8,
     "metadata": {},
     "output_type": "execute_result"
    },
    {
     "data": {
      "image/png": "[encoded data removed]",
      "text/plain": [
       "<Figure size 864x720 with 2 Axes>"
      ]
     },
     "metadata": {
      "needs_background": "light"
     },
     "output_type": "display_data"
    }
   ],
   "source": [
    "plt.figure(figsize = (12, 10))\n",
    "sns.heatmap(dataset[['pm25_ratio', 'pm10_ratio', 'pressure', 'temperatureSht', 'humiditySht']].corr(),\n",
    "            cmap = 'jet')"
   ]
  },
  {
   "cell_type": "markdown",
   "metadata": {},
   "source": [
    "# Train and test split\n",
    "\n",
    "Split data for train and test and normalize them"
   ]
  },
  {
   "cell_type": "code",
   "execution_count": 20,
   "metadata": {},
   "outputs": [],
   "source": [
    "dataset = dataset[['pm25_x', 'pm25_y', 'temperatureSht', 'humiditySht', 'pressure']]\n",
    "\n",
    "Y = dataset['pm25_x']\n",
    "X = dataset.drop('pm25_x', axis = 1)"
   ]
  },
  {
   "cell_type": "code",
   "execution_count": 21,
   "metadata": {},
   "outputs": [],
   "source": [
    "x_train, x_test, y_train, y_test = train_test_split(X, Y, test_size = 0.2, shuffle = True, random_state = 0)"
   ]
  },
  {
   "cell_type": "code",
   "execution_count": 22,
   "metadata": {},
   "outputs": [],
   "source": [
    "scaler = preprocessing.StandardScaler().fit(x_train)\n",
    "y_scaler = max(y_train)\n",
    "\n",
    "x_train = scaler.transform(x_train)\n",
    "x_test = scaler.transform(x_test)\n",
    "\n",
    "y_train = y_train / y_scaler"
   ]
  },
  {
   "cell_type": "markdown",
   "metadata": {},
   "source": [
    "### Model"
   ]
  },
  {
   "cell_type": "code",
   "execution_count": 31,
   "metadata": {},
   "outputs": [
    {
     "name": "stdout",
     "output_type": "stream",
     "text": [
      "Epoch 1/10\n",
      "75/75 [==============================] - 1s 7ms/step - loss: 0.0348 - mae: 0.0348 - val_loss: 0.0170 - val_mae: 0.0170\n",
      "Epoch 2/10\n",
      "75/75 [==============================] - 0s 5ms/step - loss: 0.0177 - mae: 0.0177 - val_loss: 0.0153 - val_mae: 0.0153\n",
      "Epoch 3/10\n",
      "75/75 [==============================] - 0s 4ms/step - loss: 0.0166 - mae: 0.0166 - val_loss: 0.0152 - val_mae: 0.0152\n",
      "Epoch 4/10\n",
      "75/75 [==============================] - 0s 5ms/step - loss: 0.0164 - mae: 0.0164 - val_loss: 0.0146 - val_mae: 0.0146\n",
      "Epoch 5/10\n",
      "75/75 [==============================] - 0s 5ms/step - loss: 0.0161 - mae: 0.0161 - val_loss: 0.0148 - val_mae: 0.0148\n",
      "Epoch 6/10\n",
      "75/75 [==============================] - 0s 5ms/step - loss: 0.0159 - mae: 0.0159 - val_loss: 0.0142 - val_mae: 0.0142\n",
      "Epoch 7/10\n",
      "75/75 [==============================] - 0s 5ms/step - loss: 0.0154 - mae: 0.0154 - val_loss: 0.0142 - val_mae: 0.0142\n",
      "Epoch 8/10\n",
      "75/75 [==============================] - 0s 4ms/step - loss: 0.0153 - mae: 0.0153 - val_loss: 0.0142 - val_mae: 0.0142\n",
      "Epoch 9/10\n",
      "75/75 [==============================] - 0s 5ms/step - loss: 0.0151 - mae: 0.0151 - val_loss: 0.0142 - val_mae: 0.0142\n",
      "Epoch 10/10\n",
      "75/75 [==============================] - 0s 4ms/step - loss: 0.0151 - mae: 0.0151 - val_loss: 0.0135 - val_mae: 0.0135\n"
     ]
    }
   ],
   "source": [
    "model = models.Sequential()\n",
    "\n",
    "model.add(layers.Dense(64, activation = 'relu', input_shape = (x_train.shape[1],)))\n",
    "model.add(layers.Dense(80, activation = 'relu'))\n",
    "model.add(layers.Dense(128, activation = 'relu'))\n",
    "model.add(layers.Dropout(0.1))\n",
    "model.add(layers.Dense(1))\n",
    "\n",
    "model.compile(optimizer = Adam(learning_rate=0.0038), loss = 'mae', metrics = ['mae'])\n",
    "\n",
    "history = model.fit(x_train, y_train, epochs = 10, validation_split = 0.2, batch_size = 256)"
   ]
  },
  {
   "cell_type": "code",
   "execution_count": 32,
   "metadata": {},
   "outputs": [],
   "source": [
    "history_dict = history.history"
   ]
  },
  {
   "cell_type": "code",
   "execution_count": 33,
   "metadata": {},
   "outputs": [
    {
     "data": {
      "image/png": "[encoded data removed]",
      "text/plain": [
       "<Figure size 864x360 with 2 Axes>"
      ]
     },
     "metadata": {
      "needs_background": "light"
     },
     "output_type": "display_data"
    }
   ],
   "source": [
    "fig = plt.figure(figsize = (12, 5))\n",
    "\n",
    "plt.subplot(1, 2, 1)\n",
    "loss = history.history['loss']\n",
    "val_loss = history.history['val_loss']\n",
    "\n",
    "epochs = range(1, len(loss) + 1)\n",
    "\n",
    "plt.plot(epochs, loss, 'bo', label = 'Train loss')\n",
    "plt.plot(epochs, val_loss, 'b', label = 'Validation loss')\n",
    "plt.title('Train and validation loss')\n",
    "plt.xlabel('Epochs')\n",
    "plt.ylabel('Loss')\n",
    "plt.grid(True)\n",
    "plt.legend()\n",
    "\n",
    "\n",
    "plt.subplot(1, 2, 2)\n",
    "mae = history.history['mae']\n",
    "val_mae = history.history['val_mae']\n",
    "\n",
    "plt.plot(epochs, mae, 'bo', label = 'Train error')\n",
    "plt.plot(epochs, val_mae, 'b', label = 'Validation error')\n",
    "plt.title('Train and validation error')\n",
    "plt.xlabel('Epochs')\n",
    "plt.ylabel('Error')\n",
    "plt.grid(True)\n",
    "plt.legend()\n",
    "\n",
    "fig.tight_layout()\n",
    "plt.show()"
   ]
  },
  {
   "cell_type": "markdown",
   "metadata": {},
   "source": [
    "# Results"
   ]
  },
  {
   "cell_type": "code",
   "execution_count": 34,
   "metadata": {
    "scrolled": true
   },
   "outputs": [
    {
     "name": "stdout",
     "output_type": "stream",
     "text": [
      "186/186 [==============================] - 0s 2ms/step - loss: 9.6815 - mae: 9.6815A: 0s - loss: 9.6542 - mae: 9.65\n"
     ]
    }
   ],
   "source": [
    "test_loss, test_err = model.evaluate(x_test, y_test)"
   ]
  },
  {
   "cell_type": "code",
   "execution_count": 35,
   "metadata": {},
   "outputs": [
    {
     "name": "stdout",
     "output_type": "stream",
     "text": [
      "test_err: 9.681533813476562\n"
     ]
    }
   ],
   "source": [
    "print('test_err:', test_err)"
   ]
  },
  {
   "cell_type": "code",
   "execution_count": 36,
   "metadata": {},
   "outputs": [],
   "source": [
    "y_pred = model.predict(x_test).reshape(-1,) * y_scaler"
   ]
  },
  {
   "cell_type": "code",
   "execution_count": 37,
   "metadata": {},
   "outputs": [
    {
     "data": {
      "image/png": "[encoded data removed]",
      "text/plain": [
       "<Figure size 864x360 with 2 Axes>"
      ]
     },
     "metadata": {
      "needs_background": "light"
     },
     "output_type": "display_data"
    }
   ],
   "source": [
    "fig = plt.figure(figsize = (12, 5))\n",
    "\n",
    "plt.subplot(1, 2, 1)\n",
    "plt.hist2d(y_test, y_pred, bins= 100, cmap = 'jet', norm = matplotlib.colors.LogNorm())\n",
    "plt.xlabel('PM 2,5 [dryer]')\n",
    "plt.ylabel('PM 2,5 [estimation]')\n",
    "plt.title('PM 2,5 predicted vs actual values')\n",
    "plt.grid(True)\n",
    "\n",
    "plt.subplot(1, 2, 2)\n",
    "plt.hist(y_pred - y_test, bins = 100)\n",
    "plt.yscale('log')\n",
    "plt.xlabel('Actual values - predicted values')\n",
    "plt.title('Difference between actual and predicted values')\n",
    "plt.grid(True)\n",
    "plt.show()\n",
    "\n",
    "fig.tight_layout()\n",
    "plt.show()"
   ]
  },
  {
   "cell_type": "code",
   "execution_count": 38,
   "metadata": {},
   "outputs": [
    {
     "name": "stdout",
     "output_type": "stream",
     "text": [
      "R2:  82.51995324018777\n",
      "MSE:  10.327300103669407\n",
      "MAE:  1.4629330037761288\n"
     ]
    }
   ],
   "source": [
    "r2 = r2_score(y_test, y_pred) * 100\n",
    "mse = mean_squared_error(y_test, y_pred)\n",
    "mae = mean_absolute_error(y_test, y_pred)\n",
    "\n",
    "print('R2: ', r2)\n",
    "print('MSE: ', mse)\n",
    "print('MAE: ', mae)"
   ]
  }
 ],
 "metadata": {
  "kernelspec": {
   "display_name": "Python 3",
   "language": "python",
   "name": "python3"
  },
  "language_info": {
   "codemirror_mode": {
    "name": "ipython",
    "version": 3
   },
   "file_extension": ".py",
   "mimetype": "text/x-python",
   "name": "python",
   "nbconvert_exporter": "python",
   "pygments_lexer": "ipython3",
   "version": "3.9.4"
  }
 },
 "nbformat": 4,
 "nbformat_minor": 4
}

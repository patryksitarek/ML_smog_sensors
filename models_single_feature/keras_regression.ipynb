{
 "cells": [
  {
   "cell_type": "markdown",
   "metadata": {},
   "source": [
    "# Keras liner regression\n",
    "Fit values from smog sensor without dryer to dryer version"
   ]
  },
  {
   "cell_type": "markdown",
   "metadata": {},
   "source": [
    "### Imports"
   ]
  },
  {
   "cell_type": "code",
   "execution_count": 2,
   "metadata": {},
   "outputs": [],
   "source": [
    "import keras\n",
    "import tensorflow as tf\n",
    "import pandas as pd\n",
    "import numpy as np\n",
    "import matplotlib\n",
    "import matplotlib.pyplot as plt\n",
    "from sklearn.model_selection import train_test_split\n",
    "from sklearn.metrics import r2_score, mean_squared_error, mean_absolute_error\n",
    "import seaborn as sns\n",
    "from tensorflow.keras import models\n",
    "from tensorflow.keras import layers\n",
    "from sklearn import preprocessing\n",
    "from tensorflow.keras.optimizers import Adam"
   ]
  },
  {
   "cell_type": "markdown",
   "metadata": {},
   "source": [
    "### Config GPU"
   ]
  },
  {
   "cell_type": "code",
   "execution_count": 3,
   "metadata": {},
   "outputs": [
    {
     "name": "stdout",
     "output_type": "stream",
     "text": [
      "Keras version: 2.7.0\n",
      "Num GPUs: 1\n"
     ]
    }
   ],
   "source": [
    "print(f'Keras version: {keras.__version__}')\n",
    "\n",
    "gpu_info = tf.config.list_physical_devices(\"GPU\")\n",
    "print(f'Num GPUs: {len(gpu_info)}')\n",
    "\n",
    "if len(gpu_info) > 0:\n",
    "    config = tf.compat.v1.ConfigProto()\n",
    "    config.gpu_options.allow_growth = True\n",
    "    config.log_device_placement = True\n",
    "\n",
    "    gpus = tf.config.experimental.list_physical_devices('GPU')\n",
    "    tf.config.experimental.set_memory_growth(gpus[0], True)"
   ]
  },
  {
   "cell_type": "markdown",
   "metadata": {},
   "source": [
    "# Read and show data"
   ]
  },
  {
   "cell_type": "code",
   "execution_count": 4,
   "metadata": {},
   "outputs": [],
   "source": [
    "dataset = pd.read_csv('../dataset/smog_part1.csv', index_col = 0)\n",
    "dataset = dataset[dataset['humiditySht'] >= 60]"
   ]
  },
  {
   "cell_type": "code",
   "execution_count": 5,
   "metadata": {},
   "outputs": [
    {
     "name": "stdout",
     "output_type": "stream",
     "text": [
      "<class 'pandas.core.frame.DataFrame'>\n",
      "Int64Index: 18683 entries, 0 to 26455\n",
      "Data columns (total 15 columns):\n",
      " #   Column             Non-Null Count  Dtype  \n",
      "---  ------             --------------  -----  \n",
      " 0   index              18683 non-null  int64  \n",
      " 1   date               18683 non-null  object \n",
      " 2   pm25_x             18683 non-null  float64\n",
      " 3   pm10_x             18683 non-null  float64\n",
      " 4   pressure           18683 non-null  int64  \n",
      " 5   temperatureHeca_x  18683 non-null  float64\n",
      " 6   humidityHeca_x     18683 non-null  int64  \n",
      " 7   pm25_y             18683 non-null  float64\n",
      " 8   pm10_y             18683 non-null  float64\n",
      " 9   temperatureSht     18683 non-null  float64\n",
      " 10  humiditySht        18683 non-null  int64  \n",
      " 11  temperatureHeca_y  18683 non-null  float64\n",
      " 12  humidityHeca_y     18683 non-null  int64  \n",
      " 13  pm25_ratio         18683 non-null  float64\n",
      " 14  pm10_ratio         18683 non-null  float64\n",
      "dtypes: float64(9), int64(5), object(1)\n",
      "memory usage: 2.3+ MB\n"
     ]
    }
   ],
   "source": [
    "dataset.info()"
   ]
  },
  {
   "cell_type": "code",
   "execution_count": 6,
   "metadata": {},
   "outputs": [
    {
     "data": {
      "text/html": [
       "<div>\n",
       "<style scoped>\n",
       "    .dataframe tbody tr th:only-of-type {\n",
       "        vertical-align: middle;\n",
       "    }\n",
       "\n",
       "    .dataframe tbody tr th {\n",
       "        vertical-align: top;\n",
       "    }\n",
       "\n",
       "    .dataframe thead th {\n",
       "        text-align: right;\n",
       "    }\n",
       "</style>\n",
       "<table border=\"1\" class=\"dataframe\">\n",
       "  <thead>\n",
       "    <tr style=\"text-align: right;\">\n",
       "      <th></th>\n",
       "      <th>index</th>\n",
       "      <th>pm25_x</th>\n",
       "      <th>pm10_x</th>\n",
       "      <th>pressure</th>\n",
       "      <th>temperatureHeca_x</th>\n",
       "      <th>humidityHeca_x</th>\n",
       "      <th>pm25_y</th>\n",
       "      <th>pm10_y</th>\n",
       "      <th>temperatureSht</th>\n",
       "      <th>humiditySht</th>\n",
       "      <th>temperatureHeca_y</th>\n",
       "      <th>humidityHeca_y</th>\n",
       "      <th>pm25_ratio</th>\n",
       "      <th>pm10_ratio</th>\n",
       "    </tr>\n",
       "  </thead>\n",
       "  <tbody>\n",
       "    <tr>\n",
       "      <th>count</th>\n",
       "      <td>18683.000000</td>\n",
       "      <td>18683.000000</td>\n",
       "      <td>18683.000000</td>\n",
       "      <td>18683.000000</td>\n",
       "      <td>18683.000000</td>\n",
       "      <td>18683.000000</td>\n",
       "      <td>18683.000000</td>\n",
       "      <td>18683.000000</td>\n",
       "      <td>18683.000000</td>\n",
       "      <td>18683.000000</td>\n",
       "      <td>18683.000000</td>\n",
       "      <td>18683.000000</td>\n",
       "      <td>18683.000000</td>\n",
       "      <td>18683.000000</td>\n",
       "    </tr>\n",
       "    <tr>\n",
       "      <th>mean</th>\n",
       "      <td>15458.855965</td>\n",
       "      <td>9.273489</td>\n",
       "      <td>16.713617</td>\n",
       "      <td>990.087620</td>\n",
       "      <td>19.568726</td>\n",
       "      <td>57.279505</td>\n",
       "      <td>10.599802</td>\n",
       "      <td>20.797286</td>\n",
       "      <td>15.802831</td>\n",
       "      <td>76.176845</td>\n",
       "      <td>16.659685</td>\n",
       "      <td>69.671091</td>\n",
       "      <td>1.156769</td>\n",
       "      <td>1.220479</td>\n",
       "    </tr>\n",
       "    <tr>\n",
       "      <th>std</th>\n",
       "      <td>7573.798736</td>\n",
       "      <td>7.164696</td>\n",
       "      <td>12.974271</td>\n",
       "      <td>5.929156</td>\n",
       "      <td>4.782299</td>\n",
       "      <td>3.032780</td>\n",
       "      <td>8.127336</td>\n",
       "      <td>16.839288</td>\n",
       "      <td>4.944176</td>\n",
       "      <td>8.306881</td>\n",
       "      <td>4.843462</td>\n",
       "      <td>8.834772</td>\n",
       "      <td>0.333659</td>\n",
       "      <td>0.360875</td>\n",
       "    </tr>\n",
       "    <tr>\n",
       "      <th>min</th>\n",
       "      <td>1.000000</td>\n",
       "      <td>0.600000</td>\n",
       "      <td>2.400000</td>\n",
       "      <td>971.000000</td>\n",
       "      <td>5.700000</td>\n",
       "      <td>38.000000</td>\n",
       "      <td>0.400000</td>\n",
       "      <td>1.000000</td>\n",
       "      <td>1.100000</td>\n",
       "      <td>60.000000</td>\n",
       "      <td>2.100000</td>\n",
       "      <td>50.000000</td>\n",
       "      <td>0.070000</td>\n",
       "      <td>0.060000</td>\n",
       "    </tr>\n",
       "    <tr>\n",
       "      <th>25%</th>\n",
       "      <td>9203.500000</td>\n",
       "      <td>4.200000</td>\n",
       "      <td>8.800000</td>\n",
       "      <td>986.000000</td>\n",
       "      <td>16.200000</td>\n",
       "      <td>55.000000</td>\n",
       "      <td>4.600000</td>\n",
       "      <td>9.800000</td>\n",
       "      <td>12.100000</td>\n",
       "      <td>70.000000</td>\n",
       "      <td>13.000000</td>\n",
       "      <td>63.000000</td>\n",
       "      <td>1.000000</td>\n",
       "      <td>1.020000</td>\n",
       "    </tr>\n",
       "    <tr>\n",
       "      <th>50%</th>\n",
       "      <td>16765.000000</td>\n",
       "      <td>7.400000</td>\n",
       "      <td>13.100000</td>\n",
       "      <td>990.000000</td>\n",
       "      <td>19.200000</td>\n",
       "      <td>58.000000</td>\n",
       "      <td>8.500000</td>\n",
       "      <td>15.800000</td>\n",
       "      <td>15.700000</td>\n",
       "      <td>77.000000</td>\n",
       "      <td>16.600000</td>\n",
       "      <td>70.000000</td>\n",
       "      <td>1.110000</td>\n",
       "      <td>1.180000</td>\n",
       "    </tr>\n",
       "    <tr>\n",
       "      <th>75%</th>\n",
       "      <td>21978.500000</td>\n",
       "      <td>12.000000</td>\n",
       "      <td>20.100000</td>\n",
       "      <td>994.000000</td>\n",
       "      <td>23.200000</td>\n",
       "      <td>60.000000</td>\n",
       "      <td>14.400000</td>\n",
       "      <td>26.300000</td>\n",
       "      <td>19.400000</td>\n",
       "      <td>83.000000</td>\n",
       "      <td>20.200000</td>\n",
       "      <td>76.000000</td>\n",
       "      <td>1.270000</td>\n",
       "      <td>1.370000</td>\n",
       "    </tr>\n",
       "    <tr>\n",
       "      <th>max</th>\n",
       "      <td>26681.000000</td>\n",
       "      <td>93.100000</td>\n",
       "      <td>267.400000</td>\n",
       "      <td>1005.000000</td>\n",
       "      <td>36.000000</td>\n",
       "      <td>89.000000</td>\n",
       "      <td>111.900000</td>\n",
       "      <td>278.800000</td>\n",
       "      <td>30.600000</td>\n",
       "      <td>98.000000</td>\n",
       "      <td>31.000000</td>\n",
       "      <td>96.000000</td>\n",
       "      <td>9.910000</td>\n",
       "      <td>5.020000</td>\n",
       "    </tr>\n",
       "  </tbody>\n",
       "</table>\n",
       "</div>"
      ],
      "text/plain": [
       "              index        pm25_x        pm10_x      pressure  \\\n",
       "count  18683.000000  18683.000000  18683.000000  18683.000000   \n",
       "mean   15458.855965      9.273489     16.713617    990.087620   \n",
       "std     7573.798736      7.164696     12.974271      5.929156   \n",
       "min        1.000000      0.600000      2.400000    971.000000   \n",
       "25%     9203.500000      4.200000      8.800000    986.000000   \n",
       "50%    16765.000000      7.400000     13.100000    990.000000   \n",
       "75%    21978.500000     12.000000     20.100000    994.000000   \n",
       "max    26681.000000     93.100000    267.400000   1005.000000   \n",
       "\n",
       "       temperatureHeca_x  humidityHeca_x        pm25_y        pm10_y  \\\n",
       "count       18683.000000    18683.000000  18683.000000  18683.000000   \n",
       "mean           19.568726       57.279505     10.599802     20.797286   \n",
       "std             4.782299        3.032780      8.127336     16.839288   \n",
       "min             5.700000       38.000000      0.400000      1.000000   \n",
       "25%            16.200000       55.000000      4.600000      9.800000   \n",
       "50%            19.200000       58.000000      8.500000     15.800000   \n",
       "75%            23.200000       60.000000     14.400000     26.300000   \n",
       "max            36.000000       89.000000    111.900000    278.800000   \n",
       "\n",
       "       temperatureSht   humiditySht  temperatureHeca_y  humidityHeca_y  \\\n",
       "count    18683.000000  18683.000000       18683.000000    18683.000000   \n",
       "mean        15.802831     76.176845          16.659685       69.671091   \n",
       "std          4.944176      8.306881           4.843462        8.834772   \n",
       "min          1.100000     60.000000           2.100000       50.000000   \n",
       "25%         12.100000     70.000000          13.000000       63.000000   \n",
       "50%         15.700000     77.000000          16.600000       70.000000   \n",
       "75%         19.400000     83.000000          20.200000       76.000000   \n",
       "max         30.600000     98.000000          31.000000       96.000000   \n",
       "\n",
       "         pm25_ratio    pm10_ratio  \n",
       "count  18683.000000  18683.000000  \n",
       "mean       1.156769      1.220479  \n",
       "std        0.333659      0.360875  \n",
       "min        0.070000      0.060000  \n",
       "25%        1.000000      1.020000  \n",
       "50%        1.110000      1.180000  \n",
       "75%        1.270000      1.370000  \n",
       "max        9.910000      5.020000  "
      ]
     },
     "execution_count": 6,
     "metadata": {},
     "output_type": "execute_result"
    }
   ],
   "source": [
    "dataset.describe()"
   ]
  },
  {
   "cell_type": "code",
   "execution_count": 7,
   "metadata": {},
   "outputs": [
    {
     "data": {
      "image/png": "[encoded data removed]",
      "text/plain": [
       "<Figure size 720x2880 with 13 Axes>"
      ]
     },
     "metadata": {
      "needs_background": "light"
     },
     "output_type": "display_data"
    }
   ],
   "source": [
    "fig = plt.figure(figsize = (10, 40))\n",
    "\n",
    "for i, key in enumerate(dataset.keys()[2:]):\n",
    "    plt.subplot(10, 2, i+1)\n",
    "    plt.hist(dataset[key], bins = 100)\n",
    "    plt.yscale('log', nonpositive = 'clip')\n",
    "    plt.xlabel(key)\n",
    "\n",
    "fig.tight_layout()\n",
    "plt.show()"
   ]
  },
  {
   "cell_type": "code",
   "execution_count": 8,
   "metadata": {},
   "outputs": [
    {
     "data": {
      "text/html": [
       "<div>\n",
       "<style scoped>\n",
       "    .dataframe tbody tr th:only-of-type {\n",
       "        vertical-align: middle;\n",
       "    }\n",
       "\n",
       "    .dataframe tbody tr th {\n",
       "        vertical-align: top;\n",
       "    }\n",
       "\n",
       "    .dataframe thead th {\n",
       "        text-align: right;\n",
       "    }\n",
       "</style>\n",
       "<table border=\"1\" class=\"dataframe\">\n",
       "  <thead>\n",
       "    <tr style=\"text-align: right;\">\n",
       "      <th></th>\n",
       "      <th>pm25_ratio</th>\n",
       "      <th>pm10_ratio</th>\n",
       "      <th>pm25_y</th>\n",
       "      <th>pm10_y</th>\n",
       "      <th>pressure</th>\n",
       "      <th>temperatureSht</th>\n",
       "      <th>humiditySht</th>\n",
       "    </tr>\n",
       "  </thead>\n",
       "  <tbody>\n",
       "    <tr>\n",
       "      <th>0</th>\n",
       "      <td>0.73</td>\n",
       "      <td>1.05</td>\n",
       "      <td>13.8</td>\n",
       "      <td>24.4</td>\n",
       "      <td>986</td>\n",
       "      <td>6.1</td>\n",
       "      <td>72</td>\n",
       "    </tr>\n",
       "    <tr>\n",
       "      <th>1</th>\n",
       "      <td>0.86</td>\n",
       "      <td>1.31</td>\n",
       "      <td>14.4</td>\n",
       "      <td>27.0</td>\n",
       "      <td>986</td>\n",
       "      <td>5.9</td>\n",
       "      <td>74</td>\n",
       "    </tr>\n",
       "    <tr>\n",
       "      <th>2</th>\n",
       "      <td>0.69</td>\n",
       "      <td>1.18</td>\n",
       "      <td>15.1</td>\n",
       "      <td>29.1</td>\n",
       "      <td>986</td>\n",
       "      <td>5.7</td>\n",
       "      <td>75</td>\n",
       "    </tr>\n",
       "    <tr>\n",
       "      <th>3</th>\n",
       "      <td>0.83</td>\n",
       "      <td>1.31</td>\n",
       "      <td>18.0</td>\n",
       "      <td>33.7</td>\n",
       "      <td>986</td>\n",
       "      <td>5.7</td>\n",
       "      <td>76</td>\n",
       "    </tr>\n",
       "    <tr>\n",
       "      <th>4</th>\n",
       "      <td>0.76</td>\n",
       "      <td>1.22</td>\n",
       "      <td>19.0</td>\n",
       "      <td>36.0</td>\n",
       "      <td>986</td>\n",
       "      <td>5.5</td>\n",
       "      <td>77</td>\n",
       "    </tr>\n",
       "    <tr>\n",
       "      <th>...</th>\n",
       "      <td>...</td>\n",
       "      <td>...</td>\n",
       "      <td>...</td>\n",
       "      <td>...</td>\n",
       "      <td>...</td>\n",
       "      <td>...</td>\n",
       "      <td>...</td>\n",
       "    </tr>\n",
       "    <tr>\n",
       "      <th>26451</th>\n",
       "      <td>1.08</td>\n",
       "      <td>1.08</td>\n",
       "      <td>21.5</td>\n",
       "      <td>45.7</td>\n",
       "      <td>993</td>\n",
       "      <td>9.8</td>\n",
       "      <td>83</td>\n",
       "    </tr>\n",
       "    <tr>\n",
       "      <th>26452</th>\n",
       "      <td>1.58</td>\n",
       "      <td>1.78</td>\n",
       "      <td>24.0</td>\n",
       "      <td>52.4</td>\n",
       "      <td>993</td>\n",
       "      <td>9.7</td>\n",
       "      <td>83</td>\n",
       "    </tr>\n",
       "    <tr>\n",
       "      <th>26453</th>\n",
       "      <td>1.38</td>\n",
       "      <td>1.43</td>\n",
       "      <td>20.0</td>\n",
       "      <td>40.5</td>\n",
       "      <td>993</td>\n",
       "      <td>9.6</td>\n",
       "      <td>83</td>\n",
       "    </tr>\n",
       "    <tr>\n",
       "      <th>26454</th>\n",
       "      <td>0.96</td>\n",
       "      <td>1.01</td>\n",
       "      <td>16.1</td>\n",
       "      <td>32.5</td>\n",
       "      <td>993</td>\n",
       "      <td>9.6</td>\n",
       "      <td>83</td>\n",
       "    </tr>\n",
       "    <tr>\n",
       "      <th>26455</th>\n",
       "      <td>1.20</td>\n",
       "      <td>1.26</td>\n",
       "      <td>19.9</td>\n",
       "      <td>41.3</td>\n",
       "      <td>992</td>\n",
       "      <td>9.5</td>\n",
       "      <td>83</td>\n",
       "    </tr>\n",
       "  </tbody>\n",
       "</table>\n",
       "<p>18683 rows × 7 columns</p>\n",
       "</div>"
      ],
      "text/plain": [
       "       pm25_ratio  pm10_ratio  pm25_y  pm10_y  pressure  temperatureSht  \\\n",
       "0            0.73        1.05    13.8    24.4       986             6.1   \n",
       "1            0.86        1.31    14.4    27.0       986             5.9   \n",
       "2            0.69        1.18    15.1    29.1       986             5.7   \n",
       "3            0.83        1.31    18.0    33.7       986             5.7   \n",
       "4            0.76        1.22    19.0    36.0       986             5.5   \n",
       "...           ...         ...     ...     ...       ...             ...   \n",
       "26451        1.08        1.08    21.5    45.7       993             9.8   \n",
       "26452        1.58        1.78    24.0    52.4       993             9.7   \n",
       "26453        1.38        1.43    20.0    40.5       993             9.6   \n",
       "26454        0.96        1.01    16.1    32.5       993             9.6   \n",
       "26455        1.20        1.26    19.9    41.3       992             9.5   \n",
       "\n",
       "       humiditySht  \n",
       "0               72  \n",
       "1               74  \n",
       "2               75  \n",
       "3               76  \n",
       "4               77  \n",
       "...            ...  \n",
       "26451           83  \n",
       "26452           83  \n",
       "26453           83  \n",
       "26454           83  \n",
       "26455           83  \n",
       "\n",
       "[18683 rows x 7 columns]"
      ]
     },
     "execution_count": 8,
     "metadata": {},
     "output_type": "execute_result"
    }
   ],
   "source": [
    "dataset[['pm25_ratio', 'pm10_ratio', 'pm25_y', 'pm10_y', 'pressure', 'temperatureSht', 'humiditySht']]"
   ]
  },
  {
   "cell_type": "code",
   "execution_count": 9,
   "metadata": {},
   "outputs": [
    {
     "data": {
      "text/plain": [
       "<AxesSubplot:>"
      ]
     },
     "execution_count": 9,
     "metadata": {},
     "output_type": "execute_result"
    },
    {
     "data": {
      "image/png": "[encoded data removed]",
      "text/plain": [
       "<Figure size 864x720 with 2 Axes>"
      ]
     },
     "metadata": {
      "needs_background": "light"
     },
     "output_type": "display_data"
    }
   ],
   "source": [
    "plt.figure(figsize = (12, 10))\n",
    "sns.heatmap(dataset[['pm25_ratio', 'pm10_ratio', 'pressure', 'temperatureSht', 'humiditySht']].corr(),\n",
    "            cmap = 'jet')"
   ]
  },
  {
   "cell_type": "markdown",
   "metadata": {},
   "source": [
    "# Train and test split\n",
    "\n",
    "Split data for train and test and normalize them"
   ]
  },
  {
   "cell_type": "code",
   "execution_count": 10,
   "metadata": {},
   "outputs": [],
   "source": [
    "dataset = dataset[['pm25_x', 'pm25_y', 'temperatureSht', 'humiditySht', 'pressure']]\n",
    "\n",
    "Y = dataset['pm25_x']\n",
    "X = dataset.drop('pm25_x', axis = 1)"
   ]
  },
  {
   "cell_type": "code",
   "execution_count": 11,
   "metadata": {},
   "outputs": [],
   "source": [
    "x_train, x_test, y_train, y_test = train_test_split(X, Y, test_size = 0.2, shuffle = True, random_state = 0)"
   ]
  },
  {
   "cell_type": "code",
   "execution_count": 12,
   "metadata": {},
   "outputs": [],
   "source": [
    "scaler = preprocessing.StandardScaler().fit(x_train)\n",
    "y_scaler = max(y_train)\n",
    "\n",
    "x_train = scaler.transform(x_train)\n",
    "x_test = scaler.transform(x_test)\n",
    "\n",
    "y_train = y_train / y_scaler"
   ]
  },
  {
   "cell_type": "markdown",
   "metadata": {},
   "source": [
    "### Model"
   ]
  },
  {
   "cell_type": "code",
   "execution_count": 13,
   "metadata": {},
   "outputs": [
    {
     "name": "stdout",
     "output_type": "stream",
     "text": [
      "Epoch 1/10\n",
      "47/47 [==============================] - 1s 8ms/step - loss: 0.0387 - mae: 0.0387 - val_loss: 0.0134 - val_mae: 0.0134\n",
      "Epoch 2/10\n",
      "47/47 [==============================] - 0s 5ms/step - loss: 0.0151 - mae: 0.0151 - val_loss: 0.0117 - val_mae: 0.0117\n",
      "Epoch 3/10\n",
      "47/47 [==============================] - 0s 4ms/step - loss: 0.0137 - mae: 0.0137 - val_loss: 0.0117 - val_mae: 0.0117\n",
      "Epoch 4/10\n",
      "47/47 [==============================] - 0s 4ms/step - loss: 0.0129 - mae: 0.0129 - val_loss: 0.0113 - val_mae: 0.0113\n",
      "Epoch 5/10\n",
      "47/47 [==============================] - 0s 4ms/step - loss: 0.0126 - mae: 0.0126 - val_loss: 0.0110 - val_mae: 0.0110\n",
      "Epoch 6/10\n",
      "47/47 [==============================] - 0s 4ms/step - loss: 0.0123 - mae: 0.0123 - val_loss: 0.0105 - val_mae: 0.0105\n",
      "Epoch 7/10\n",
      "47/47 [==============================] - 0s 5ms/step - loss: 0.0122 - mae: 0.0122 - val_loss: 0.0106 - val_mae: 0.0106\n",
      "Epoch 8/10\n",
      "47/47 [==============================] - 0s 4ms/step - loss: 0.0120 - mae: 0.0120 - val_loss: 0.0105 - val_mae: 0.0105\n",
      "Epoch 9/10\n",
      "47/47 [==============================] - 0s 4ms/step - loss: 0.0120 - mae: 0.0120 - val_loss: 0.0111 - val_mae: 0.0111\n",
      "Epoch 10/10\n",
      "47/47 [==============================] - 0s 4ms/step - loss: 0.0119 - mae: 0.0119 - val_loss: 0.0108 - val_mae: 0.0108\n"
     ]
    }
   ],
   "source": [
    "model = models.Sequential()\n",
    "\n",
    "model.add(layers.Dense(64, activation = 'relu', input_shape = (x_train.shape[1],)))\n",
    "model.add(layers.Dense(80, activation = 'relu'))\n",
    "model.add(layers.Dense(128, activation = 'relu'))\n",
    "model.add(layers.Dropout(0.1))\n",
    "model.add(layers.Dense(1))\n",
    "\n",
    "model.compile(optimizer = Adam(learning_rate=0.0038), loss = 'mae', metrics = ['mae'])\n",
    "\n",
    "history = model.fit(x_train, y_train, epochs = 10, validation_split = 0.2, batch_size = 256)"
   ]
  },
  {
   "cell_type": "code",
   "execution_count": 14,
   "metadata": {},
   "outputs": [],
   "source": [
    "history_dict = history.history"
   ]
  },
  {
   "cell_type": "code",
   "execution_count": 15,
   "metadata": {},
   "outputs": [
    {
     "data": {
      "image/png": "[encoded data removed]",
      "text/plain": [
       "<Figure size 864x360 with 2 Axes>"
      ]
     },
     "metadata": {
      "needs_background": "light"
     },
     "output_type": "display_data"
    }
   ],
   "source": [
    "fig = plt.figure(figsize = (12, 5))\n",
    "\n",
    "plt.subplot(1, 2, 1)\n",
    "loss = history.history['loss']\n",
    "val_loss = history.history['val_loss']\n",
    "\n",
    "epochs = range(1, len(loss) + 1)\n",
    "\n",
    "plt.plot(epochs, loss, 'bo', label = 'Train loss')\n",
    "plt.plot(epochs, val_loss, 'b', label = 'Validation loss')\n",
    "plt.title('Train and validation loss')\n",
    "plt.xlabel('Epochs')\n",
    "plt.ylabel('Loss')\n",
    "plt.grid(True)\n",
    "plt.legend()\n",
    "\n",
    "\n",
    "plt.subplot(1, 2, 2)\n",
    "mae = history.history['mae']\n",
    "val_mae = history.history['val_mae']\n",
    "\n",
    "plt.plot(epochs, mae, 'bo', label = 'Train error')\n",
    "plt.plot(epochs, val_mae, 'b', label = 'Validation error')\n",
    "plt.title('Train and validation error')\n",
    "plt.xlabel('Epochs')\n",
    "plt.ylabel('Error')\n",
    "plt.grid(True)\n",
    "plt.legend()\n",
    "\n",
    "fig.tight_layout()\n",
    "plt.show()"
   ]
  },
  {
   "cell_type": "markdown",
   "metadata": {},
   "source": [
    "# Results"
   ]
  },
  {
   "cell_type": "code",
   "execution_count": 16,
   "metadata": {
    "scrolled": true
   },
   "outputs": [
    {
     "name": "stdout",
     "output_type": "stream",
     "text": [
      "117/117 [==============================] - 0s 2ms/step - loss: 9.1259 - mae: 9.1259\n"
     ]
    }
   ],
   "source": [
    "test_loss, test_err = model.evaluate(x_test, y_test)"
   ]
  },
  {
   "cell_type": "code",
   "execution_count": 17,
   "metadata": {},
   "outputs": [
    {
     "name": "stdout",
     "output_type": "stream",
     "text": [
      "test_err: 9.125890731811523\n"
     ]
    }
   ],
   "source": [
    "print('test_err:', test_err)"
   ]
  },
  {
   "cell_type": "code",
   "execution_count": 18,
   "metadata": {},
   "outputs": [],
   "source": [
    "y_pred = model.predict(x_test).reshape(-1,) * y_scaler"
   ]
  },
  {
   "cell_type": "code",
   "execution_count": 19,
   "metadata": {},
   "outputs": [
    {
     "data": {
      "image/png": "[encoded data removed]",
      "text/plain": [
       "<Figure size 864x360 with 2 Axes>"
      ]
     },
     "metadata": {
      "needs_background": "light"
     },
     "output_type": "display_data"
    }
   ],
   "source": [
    "fig = plt.figure(figsize = (12, 5))\n",
    "\n",
    "plt.subplot(1, 2, 1)\n",
    "plt.hist2d(y_test, y_pred, bins= 100, cmap = 'jet', norm = matplotlib.colors.LogNorm())\n",
    "plt.xlabel('PM 2,5 [dryer]')\n",
    "plt.ylabel('PM 2,5 [estimation]')\n",
    "plt.title('PM 2,5 predicted vs actual values')\n",
    "plt.grid(True)\n",
    "\n",
    "plt.subplot(1, 2, 2)\n",
    "plt.hist(y_pred - y_test, bins = 100)\n",
    "plt.yscale('log')\n",
    "plt.xlabel('Actual values - predicted values')\n",
    "plt.title('Difference between actual and predicted values')\n",
    "plt.grid(True)\n",
    "plt.show()\n",
    "\n",
    "fig.tight_layout()\n",
    "plt.show()"
   ]
  },
  {
   "cell_type": "code",
   "execution_count": 21,
   "metadata": {},
   "outputs": [
    {
     "name": "stdout",
     "output_type": "stream",
     "text": [
      "R2:  92.10326347761156\n",
      "MSE:  4.135526318439138\n",
      "MAE:  1.0239480517399895\n"
     ]
    }
   ],
   "source": [
    "r2 = r2_score(y_test, y_pred) * 100\n",
    "mse = mean_squared_error(y_test, y_pred)\n",
    "mae = mean_absolute_error(y_test, y_pred)\n",
    "\n",
    "print('R2: ', r2)\n",
    "print('MSE: ', mse)\n",
    "print('MAE: ', mae)"
   ]
  }
 ],
 "metadata": {
  "kernelspec": {
   "display_name": "Python 3",
   "language": "python",
   "name": "python3"
  },
  "language_info": {
   "codemirror_mode": {
    "name": "ipython",
    "version": 3
   },
   "file_extension": ".py",
   "mimetype": "text/x-python",
   "name": "python",
   "nbconvert_exporter": "python",
   "pygments_lexer": "ipython3",
   "version": "3.9.4"
  }
 },
 "nbformat": 4,
 "nbformat_minor": 4
}

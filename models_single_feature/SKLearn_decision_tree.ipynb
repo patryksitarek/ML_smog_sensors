{
 "cells": [
  {
   "cell_type": "markdown",
   "metadata": {},
   "source": [
    "# SMAC: Decision Tree Regressor"
   ]
  },
  {
   "cell_type": "markdown",
   "metadata": {},
   "source": [
    "# Imports"
   ]
  },
  {
   "cell_type": "code",
   "execution_count": 34,
   "metadata": {},
   "outputs": [],
   "source": [
    "from ConfigSpace import Categorical, Configuration, ConfigurationSpace, Float, Integer\n",
    "from ConfigSpace.conditions import InCondition\n",
    "from sklearn.tree import DecisionTreeRegressor\n",
    "from sklearn.model_selection import cross_val_score\n",
    "from smac import HyperparameterOptimizationFacade, Scenario\n",
    "import matplotlib.pyplot as plt\n",
    "from sklearn.model_selection import train_test_split\n",
    "from sklearn.preprocessing import StandardScaler\n",
    "from matplotlib.colors import LogNorm\n",
    "from scipy.stats import randint\n",
    "from sklearn.metrics import r2_score, mean_squared_error, mean_absolute_error\n",
    "import pandas as pd\n",
    "import numpy as np\n",
    "import time"
   ]
  },
  {
   "cell_type": "markdown",
   "metadata": {},
   "source": [
    "# Read data"
   ]
  },
  {
   "cell_type": "code",
   "execution_count": 18,
   "metadata": {},
   "outputs": [],
   "source": [
    "# dataset part 1\n",
    "dataset = pd.read_csv('../../../dataset/smog_part1.csv', index_col = 0)"
   ]
  },
  {
   "cell_type": "code",
   "execution_count": 19,
   "metadata": {},
   "outputs": [
    {
     "data": {
      "text/html": [
       "<div>\n",
       "<style scoped>\n",
       "    .dataframe tbody tr th:only-of-type {\n",
       "        vertical-align: middle;\n",
       "    }\n",
       "\n",
       "    .dataframe tbody tr th {\n",
       "        vertical-align: top;\n",
       "    }\n",
       "\n",
       "    .dataframe thead th {\n",
       "        text-align: right;\n",
       "    }\n",
       "</style>\n",
       "<table border=\"1\" class=\"dataframe\">\n",
       "  <thead>\n",
       "    <tr style=\"text-align: right;\">\n",
       "      <th></th>\n",
       "      <th>pm25_x</th>\n",
       "      <th>pm25_y</th>\n",
       "      <th>temperatureSht</th>\n",
       "      <th>humiditySht</th>\n",
       "      <th>pressure</th>\n",
       "    </tr>\n",
       "  </thead>\n",
       "  <tbody>\n",
       "    <tr>\n",
       "      <th>0</th>\n",
       "      <td>19.0</td>\n",
       "      <td>13.8</td>\n",
       "      <td>6.1</td>\n",
       "      <td>72</td>\n",
       "      <td>986</td>\n",
       "    </tr>\n",
       "    <tr>\n",
       "      <th>1</th>\n",
       "      <td>16.7</td>\n",
       "      <td>14.4</td>\n",
       "      <td>5.9</td>\n",
       "      <td>74</td>\n",
       "      <td>986</td>\n",
       "    </tr>\n",
       "    <tr>\n",
       "      <th>2</th>\n",
       "      <td>21.8</td>\n",
       "      <td>15.1</td>\n",
       "      <td>5.7</td>\n",
       "      <td>75</td>\n",
       "      <td>986</td>\n",
       "    </tr>\n",
       "    <tr>\n",
       "      <th>3</th>\n",
       "      <td>21.8</td>\n",
       "      <td>18.0</td>\n",
       "      <td>5.7</td>\n",
       "      <td>76</td>\n",
       "      <td>986</td>\n",
       "    </tr>\n",
       "    <tr>\n",
       "      <th>4</th>\n",
       "      <td>25.0</td>\n",
       "      <td>19.0</td>\n",
       "      <td>5.5</td>\n",
       "      <td>77</td>\n",
       "      <td>986</td>\n",
       "    </tr>\n",
       "  </tbody>\n",
       "</table>\n",
       "</div>"
      ],
      "text/plain": [
       "   pm25_x  pm25_y  temperatureSht  humiditySht  pressure\n",
       "0    19.0    13.8             6.1           72       986\n",
       "1    16.7    14.4             5.9           74       986\n",
       "2    21.8    15.1             5.7           75       986\n",
       "3    21.8    18.0             5.7           76       986\n",
       "4    25.0    19.0             5.5           77       986"
      ]
     },
     "execution_count": 19,
     "metadata": {},
     "output_type": "execute_result"
    }
   ],
   "source": [
    "dataset = dataset[['pm25_x', 'pm25_y', 'temperatureSht', 'humiditySht', 'pressure']]\n",
    "dataset = dataset[dataset['humiditySht'] >= 60]\n",
    "\n",
    "dataset.head()"
   ]
  },
  {
   "cell_type": "markdown",
   "metadata": {},
   "source": [
    "# Train and test split\n",
    "\n",
    "Split data for train and test sets and normalze"
   ]
  },
  {
   "cell_type": "code",
   "execution_count": 20,
   "metadata": {},
   "outputs": [],
   "source": [
    "Y = dataset['pm25_x'].to_numpy().reshape(-1, 1)\n",
    "X = dataset['pm25_y'].to_numpy().reshape(-1, 1)"
   ]
  },
  {
   "cell_type": "code",
   "execution_count": 21,
   "metadata": {},
   "outputs": [],
   "source": [
    "x_train, x_test, y_train, y_test = train_test_split(X, Y, test_size = 0.2, shuffle = True, random_state = 0)"
   ]
  },
  {
   "cell_type": "code",
   "execution_count": 22,
   "metadata": {},
   "outputs": [],
   "source": [
    "scaler = StandardScaler().fit(x_train)\n",
    "y_scaler = max(y_train)\n",
    "\n",
    "x_train = scaler.transform(x_train)\n",
    "x_test = scaler.transform(x_test)\n",
    "\n",
    "y_train = y_train / y_scaler\n",
    "y_test = y_test / y_scaler"
   ]
  },
  {
   "cell_type": "markdown",
   "metadata": {},
   "source": [
    "# SKLearn Decision Tree Regressor\n",
    "default values"
   ]
  },
  {
   "cell_type": "code",
   "execution_count": 23,
   "metadata": {},
   "outputs": [
    {
     "name": "stdout",
     "output_type": "stream",
     "text": [
      "R2 on train dataset:  81.95\n",
      "R2 on test dataset:  77.14\n"
     ]
    }
   ],
   "source": [
    "dtm = DecisionTreeRegressor()\n",
    "\n",
    "dtm.fit(x_train,y_train)\n",
    "\n",
    "train_dataset_score = dtm.score(x_train,y_train)\n",
    "test_dataset_score = dtm.score(x_test, y_test)\n",
    "\n",
    "print('R2 on train dataset: ', round(train_dataset_score * 100, 2))\n",
    "print('R2 on test dataset: ', round(test_dataset_score * 100, 2))"
   ]
  },
  {
   "cell_type": "code",
   "execution_count": 24,
   "metadata": {},
   "outputs": [],
   "source": [
    "class TREE:\n",
    "    @property\n",
    "    def configspace(self) -> ConfigurationSpace:\n",
    "        # Configuration Space\n",
    "        cs = ConfigurationSpace(seed=0)\n",
    "\n",
    "        # Hyperparameters\n",
    "        criterion = Categorical(\"criterion\", [\"squared_error\", \"friedman_mse\", \"absolute_error\", \"poisson\"], default=\"absolute_error\")\n",
    "        splitter = Categorical(\"splitter\", [\"best\", \"random\"], default=\"best\")\n",
    "        max_depth = Integer(\"max_depth\", (1, 8192), default=None)\n",
    "        min_samples_split = Integer(\"min_samples_split\", (2, 512), default=2)\n",
    "        min_samples_leaf = Integer(\"min_samples_leaf\", (1, 512), default=1)\n",
    "        max_leaf_nodes = Integer(\"max_leaf_nodes\", (2, 131072), default=None)\n",
    "        \n",
    "        # Dependencies\n",
    "        use_splitter = InCondition(child=splitter, parent=criterion, values=[\"squared_error\", \"friedman_mse\", \"absolute_error\", \"poisson\"])\n",
    "        use_max_depth = InCondition(child=max_depth, parent=criterion, values=[\"squared_error\", \"friedman_mse\", \"absolute_error\", \"poisson\"])\n",
    "        use_min_samples_split = InCondition(child=min_samples_split, parent=criterion, values=[\"squared_error\", \"friedman_mse\", \"absolute_error\", \"poisson\"])\n",
    "        use_min_samples_leaf = InCondition(child=min_samples_leaf, parent=criterion, values=[\"squared_error\", \"friedman_mse\", \"absolute_error\", \"poisson\"])\n",
    "        use_max_leaf = InCondition(child=max_leaf_nodes, parent=criterion, values=[\"squared_error\", \"friedman_mse\", \"absolute_error\", \"poisson\"])\n",
    "        \n",
    "        cs.add_hyperparameters([criterion, splitter, max_depth, min_samples_split, min_samples_leaf, max_leaf_nodes])\n",
    "        cs.add_conditions([use_splitter, use_max_depth, use_min_samples_split, use_min_samples_leaf, use_max_leaf])\n",
    "\n",
    "        return cs\n",
    "\n",
    "    def train(self, config: Configuration, seed: int = 0) -> float:\n",
    "        \"\"\"Creates a SVM based on a configuration and evaluates it on the\n",
    "        iris-dataset using cross-validation.\"\"\"\n",
    "        config_dict = dict(config)\n",
    "\n",
    "        classifier = DecisionTreeRegressor(**config_dict, random_state=seed)\n",
    "        scores = cross_val_score(classifier, x_train, y_train.ravel(), cv=5)\n",
    "        cost = 1 - np.mean(scores)\n",
    "\n",
    "        return cost"
   ]
  },
  {
   "cell_type": "code",
   "execution_count": 25,
   "metadata": {},
   "outputs": [
    {
     "name": "stdout",
     "output_type": "stream",
     "text": [
      "[INFO][abstract_initial_design.py:82] Using `n_configs` and ignoring `n_configs_per_hyperparameter`.\n",
      "[INFO][abstract_initial_design.py:147] Using 5 initial design configurations and 0 additional configurations.\n",
      "[INFO][abstract_intensifier.py:515] Added config 7205e8 as new incumbent because there are no incumbents yet.\n",
      "[INFO][abstract_intensifier.py:590] Added config 2a6786 and rejected config 7205e8 as incumbent because it is not better than the incumbents on 3 instances:\n",
      "[INFO][configspace.py:175] --- criterion: 'friedman_mse' -> 'absolute_error'\n",
      "[INFO][configspace.py:175] --- max_depth: 5084 -> 1051\n",
      "[INFO][configspace.py:175] --- max_leaf_nodes: 14093 -> 33436\n",
      "[INFO][configspace.py:175] --- min_samples_leaf: 109 -> 36\n",
      "[INFO][configspace.py:175] --- min_samples_split: 442 -> 92\n",
      "[INFO][smbo.py:319] Finished 50 trials.\n",
      "[INFO][smbo.py:319] Finished 100 trials.\n",
      "[INFO][abstract_intensifier.py:590] Added config a34ecc and rejected config 2a6786 as incumbent because it is not better than the incumbents on 3 instances:\n",
      "[INFO][configspace.py:175] --- max_depth: 1051 -> 811\n",
      "[INFO][configspace.py:175] --- max_leaf_nodes: 33436 -> 95699\n",
      "[INFO][configspace.py:175] --- min_samples_leaf: 36 -> 24\n",
      "[INFO][configspace.py:175] --- min_samples_split: 92 -> 10\n",
      "[INFO][smbo.py:319] Finished 150 trials.\n",
      "[INFO][smbo.py:319] Finished 200 trials.\n",
      "[INFO][smbo.py:319] Finished 250 trials.\n",
      "[INFO][smbo.py:319] Finished 300 trials.\n",
      "[INFO][smbo.py:319] Finished 350 trials.\n",
      "[INFO][smbo.py:319] Finished 400 trials.\n",
      "[INFO][smbo.py:319] Finished 450 trials.\n",
      "[INFO][abstract_intensifier.py:590] Added config 690b75 and rejected config a34ecc as incumbent because it is not better than the incumbents on 3 instances:\n",
      "[INFO][configspace.py:175] --- max_depth: 811 -> 2399\n",
      "[INFO][configspace.py:175] --- max_leaf_nodes: 95699 -> 14154\n",
      "[INFO][configspace.py:175] --- min_samples_split: 10 -> 51\n",
      "[INFO][smbo.py:319] Finished 500 trials.\n",
      "[INFO][smbo.py:327] Configuration budget is exhausted:\n",
      "[INFO][smbo.py:328] --- Remaining wallclock time: inf\n",
      "[INFO][smbo.py:329] --- Remaining cpu time: inf\n",
      "[INFO][smbo.py:330] --- Remaining trials: 0\n",
      "Default cost: 0.23701362202113885\n",
      "Incumbent cost: 0.2169705862417739\n",
      "CPU times: user 20min 55s, sys: 548 ms, total: 20min 56s\n",
      "Wall time: 20min 56s\n"
     ]
    }
   ],
   "source": [
    "%%time\n",
    "\n",
    "if __name__ == \"__main__\":\n",
    "    classifier = TREE()\n",
    "\n",
    "    # general information about the run\n",
    "    scenario = Scenario(\n",
    "        classifier.configspace,\n",
    "        n_trials=500,\n",
    "        n_workers=-1\n",
    "    )\n",
    "\n",
    "    # We want to run the facade's default initial design, but we want to change the number\n",
    "    # of initial configs to 5.\n",
    "    initial_design = HyperparameterOptimizationFacade.get_initial_design(scenario, n_configs=5)\n",
    "\n",
    "    # Now we use SMAC to find the best hyperparameters\n",
    "    smac = HyperparameterOptimizationFacade(\n",
    "        scenario,\n",
    "        classifier.train,\n",
    "        initial_design = initial_design,\n",
    "        overwrite = True,\n",
    "    )\n",
    "\n",
    "    incumbent = smac.optimize()\n",
    "\n",
    "    # Get cost of default configuration\n",
    "    default_cost = smac.validate(classifier.configspace.get_default_configuration())\n",
    "    print(f\"Default cost: {default_cost}\")\n",
    "\n",
    "    # Let's calculate the cost of the incumbent\n",
    "    incumbent_cost = smac.validate(incumbent)\n",
    "    print(f\"Incumbent cost: {incumbent_cost}\")"
   ]
  },
  {
   "cell_type": "code",
   "execution_count": 26,
   "metadata": {},
   "outputs": [
    {
     "name": "stdout",
     "output_type": "stream",
     "text": [
      "Configuration(values={\n",
      "  'criterion': 'absolute_error',\n",
      "  'max_depth': 2399,\n",
      "  'max_leaf_nodes': 14154,\n",
      "  'min_samples_leaf': 24,\n",
      "  'min_samples_split': 51,\n",
      "  'splitter': 'best',\n",
      "})\n"
     ]
    }
   ],
   "source": [
    "print(incumbent)"
   ]
  },
  {
   "cell_type": "code",
   "execution_count": 27,
   "metadata": {},
   "outputs": [
    {
     "data": {
      "text/html": [
       "<style>#sk-container-id-2 {color: black;background-color: white;}#sk-container-id-2 pre{padding: 0;}#sk-container-id-2 div.sk-toggleable {background-color: white;}#sk-container-id-2 label.sk-toggleable__label {cursor: pointer;display: block;width: 100%;margin-bottom: 0;padding: 0.3em;box-sizing: border-box;text-align: center;}#sk-container-id-2 label.sk-toggleable__label-arrow:before {content: \"▸\";float: left;margin-right: 0.25em;color: #696969;}#sk-container-id-2 label.sk-toggleable__label-arrow:hover:before {color: black;}#sk-container-id-2 div.sk-estimator:hover label.sk-toggleable__label-arrow:before {color: black;}#sk-container-id-2 div.sk-toggleable__content {max-height: 0;max-width: 0;overflow: hidden;text-align: left;background-color: #f0f8ff;}#sk-container-id-2 div.sk-toggleable__content pre {margin: 0.2em;color: black;border-radius: 0.25em;background-color: #f0f8ff;}#sk-container-id-2 input.sk-toggleable__control:checked~div.sk-toggleable__content {max-height: 200px;max-width: 100%;overflow: auto;}#sk-container-id-2 input.sk-toggleable__control:checked~label.sk-toggleable__label-arrow:before {content: \"▾\";}#sk-container-id-2 div.sk-estimator input.sk-toggleable__control:checked~label.sk-toggleable__label {background-color: #d4ebff;}#sk-container-id-2 div.sk-label input.sk-toggleable__control:checked~label.sk-toggleable__label {background-color: #d4ebff;}#sk-container-id-2 input.sk-hidden--visually {border: 0;clip: rect(1px 1px 1px 1px);clip: rect(1px, 1px, 1px, 1px);height: 1px;margin: -1px;overflow: hidden;padding: 0;position: absolute;width: 1px;}#sk-container-id-2 div.sk-estimator {font-family: monospace;background-color: #f0f8ff;border: 1px dotted black;border-radius: 0.25em;box-sizing: border-box;margin-bottom: 0.5em;}#sk-container-id-2 div.sk-estimator:hover {background-color: #d4ebff;}#sk-container-id-2 div.sk-parallel-item::after {content: \"\";width: 100%;border-bottom: 1px solid gray;flex-grow: 1;}#sk-container-id-2 div.sk-label:hover label.sk-toggleable__label {background-color: #d4ebff;}#sk-container-id-2 div.sk-serial::before {content: \"\";position: absolute;border-left: 1px solid gray;box-sizing: border-box;top: 0;bottom: 0;left: 50%;z-index: 0;}#sk-container-id-2 div.sk-serial {display: flex;flex-direction: column;align-items: center;background-color: white;padding-right: 0.2em;padding-left: 0.2em;position: relative;}#sk-container-id-2 div.sk-item {position: relative;z-index: 1;}#sk-container-id-2 div.sk-parallel {display: flex;align-items: stretch;justify-content: center;background-color: white;position: relative;}#sk-container-id-2 div.sk-item::before, #sk-container-id-2 div.sk-parallel-item::before {content: \"\";position: absolute;border-left: 1px solid gray;box-sizing: border-box;top: 0;bottom: 0;left: 50%;z-index: -1;}#sk-container-id-2 div.sk-parallel-item {display: flex;flex-direction: column;z-index: 1;position: relative;background-color: white;}#sk-container-id-2 div.sk-parallel-item:first-child::after {align-self: flex-end;width: 50%;}#sk-container-id-2 div.sk-parallel-item:last-child::after {align-self: flex-start;width: 50%;}#sk-container-id-2 div.sk-parallel-item:only-child::after {width: 0;}#sk-container-id-2 div.sk-dashed-wrapped {border: 1px dashed gray;margin: 0 0.4em 0.5em 0.4em;box-sizing: border-box;padding-bottom: 0.4em;background-color: white;}#sk-container-id-2 div.sk-label label {font-family: monospace;font-weight: bold;display: inline-block;line-height: 1.2em;}#sk-container-id-2 div.sk-label-container {text-align: center;}#sk-container-id-2 div.sk-container {/* jupyter's `normalize.less` sets `[hidden] { display: none; }` but bootstrap.min.css set `[hidden] { display: none !important; }` so we also need the `!important` here to be able to override the default hidden behavior on the sphinx rendered scikit-learn.org. See: https://github.com/scikit-learn/scikit-learn/issues/21755 */display: inline-block !important;position: relative;}#sk-container-id-2 div.sk-text-repr-fallback {display: none;}</style><div id=\"sk-container-id-2\" class=\"sk-top-container\"><div class=\"sk-text-repr-fallback\"><pre>DecisionTreeRegressor(criterion=&#x27;absolute_error&#x27;, max_depth=2399,\n",
       "                      max_leaf_nodes=14154, min_samples_leaf=24,\n",
       "                      min_samples_split=51)</pre><b>In a Jupyter environment, please rerun this cell to show the HTML representation or trust the notebook. <br />On GitHub, the HTML representation is unable to render, please try loading this page with nbviewer.org.</b></div><div class=\"sk-container\" hidden><div class=\"sk-item\"><div class=\"sk-estimator sk-toggleable\"><input class=\"sk-toggleable__control sk-hidden--visually\" id=\"sk-estimator-id-2\" type=\"checkbox\" checked><label for=\"sk-estimator-id-2\" class=\"sk-toggleable__label sk-toggleable__label-arrow\">DecisionTreeRegressor</label><div class=\"sk-toggleable__content\"><pre>DecisionTreeRegressor(criterion=&#x27;absolute_error&#x27;, max_depth=2399,\n",
       "                      max_leaf_nodes=14154, min_samples_leaf=24,\n",
       "                      min_samples_split=51)</pre></div></div></div></div></div>"
      ],
      "text/plain": [
       "DecisionTreeRegressor(criterion='absolute_error', max_depth=2399,\n",
       "                      max_leaf_nodes=14154, min_samples_leaf=24,\n",
       "                      min_samples_split=51)"
      ]
     },
     "execution_count": 27,
     "metadata": {},
     "output_type": "execute_result"
    }
   ],
   "source": [
    "dtr = DecisionTreeRegressor(criterion='absolute_error',\n",
    "                              splitter='best',\n",
    "                              max_depth=2399,\n",
    "                              min_samples_split=51,\n",
    "                              min_samples_leaf=24,\n",
    "                              max_leaf_nodes=14154)\n",
    "                              \n",
    "dtr.fit(x_train,y_train.ravel())"
   ]
  },
  {
   "cell_type": "code",
   "execution_count": 35,
   "metadata": {},
   "outputs": [
    {
     "name": "stdout",
     "output_type": "stream",
     "text": [
      "R2:  78.58\n",
      "MSE:  11.22\n",
      "MAE:  1.55\n"
     ]
    }
   ],
   "source": [
    "y_pred = dtr.predict(x_test) * y_scaler\n",
    "\n",
    "r2 = r2_score(y_test * y_scaler, y_pred) * 100\n",
    "mse = mean_squared_error(y_test * y_scaler, y_pred)\n",
    "mae = mean_absolute_error(y_test * y_scaler, y_pred)\n",
    "print('R2: ', round(r2, 2))\n",
    "print('MSE: ',round(mse, 2))\n",
    "print('MAE: ',round(mae, 2))"
   ]
  },
  {
   "cell_type": "code",
   "execution_count": null,
   "metadata": {},
   "outputs": [],
   "source": []
  }
 ],
 "metadata": {
  "kernelspec": {
   "display_name": "Python 3 (ipykernel)",
   "language": "python",
   "name": "python3"
  },
  "language_info": {
   "codemirror_mode": {
    "name": "ipython",
    "version": 3
   },
   "file_extension": ".py",
   "mimetype": "text/x-python",
   "name": "python",
   "nbconvert_exporter": "python",
   "pygments_lexer": "ipython3",
   "version": "3.11.3"
  }
 },
 "nbformat": 4,
 "nbformat_minor": 4
}
